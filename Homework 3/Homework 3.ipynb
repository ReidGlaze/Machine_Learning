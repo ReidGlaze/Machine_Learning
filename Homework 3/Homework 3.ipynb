{
 "cells": [
  {
   "cell_type": "markdown",
   "metadata": {},
   "source": [
    "# Problem Set 3 - Linear Regression, Logistic Regression, and Feature Engineering\n",
    "## CSCI 5622 - Fall 2022\n",
    "***\n",
    "**Name**: $<$Reid Glaze$>$ \n",
    "***\n",
    "\n",
    "This assignment is due on Canvas by **11:59PM on October 28th**.\n",
    "\n",
    "Submit only this Jupyter notebook to Canvas with the name format `PS3_<yourname>.ipynb`. Do not compress it using tar, rar, zip, etc.\n",
    "Your solutions to analysis questions should be done in Markdown directly below the associated question. You can add a write-up markdown cell if it wasn't provided.\n",
    "\n",
    "Remember that you are encouraged to discuss the problems with your classmates and instructors, \n",
    "but **you must write all code and solutions on your own**, and list any people or sources consulted.\n",
    "The only exception to this rule is that you may copy code directly from your own solution to previous homeworks.\n",
    "***"
   ]
  },
  {
   "cell_type": "code",
   "execution_count": 1,
   "metadata": {
    "pycharm": {
     "name": "#%%\n"
    }
   },
   "outputs": [],
   "source": [
    "import numpy as np\n",
    "import matplotlib.pyplot as plt\n",
    "from sklearn.preprocessing import StandardScaler\n",
    "import data\n",
    "import tests\n",
    "%matplotlib inline"
   ]
  },
  {
   "cell_type": "markdown",
   "metadata": {
    "deletable": false,
    "editable": false,
    "nbgrader": {
     "cell_type": "markdown",
     "checksum": "4556561023dddce9b62a1f66e65c735e",
     "grade": false,
     "grade_id": "linreg",
     "locked": true,
     "schema_version": 3,
     "solution": false,
     "task": false
    }
   },
   "source": [
    "## Problem 1: Linear Regression (28 points)\n",
    "For this problem we will be using house price data from King County, Washington (Seattle area) for our linear regression implementations. We will be predicting house prices from the following features:\n",
    "\n",
    "| Feature | About |\n",
    "| --- | --- |\n",
    "| Bedrooms | Number of bedrooms |\n",
    "| Bathrooms | Number of bathrooms |\n",
    "| SQFT Living | Interior square footage |\n",
    "| SQFT Lot | Lot size |\n",
    "| Floors | Number of floors |\n",
    "| Waterfront | Whether the property overlooks water (1 if so, 0 otherwise) |\n",
    "| View | Rating of the quality of the view (0-4) |\n",
    "| Condition | Rating of the condition of the property (1-5) |\n",
    "| Grade | Rating of the quality of construction and design (1-13) | \n",
    "| SQFT Above | Square footage of interior space above ground level |\n",
    "| SQFT Basement | Square footage of interior space below ground level |\n",
    "| Year Built | Year first built |\n",
    "\n",
    "\n",
    "First, we want to scale the prices to the interval $[0, 1]$ using `MinMaxScaler`. Given an features matrix $X$, the scaling works as follows:\n",
    "\\begin{align}\n",
    "    X  \\leftarrow \\frac{X-min(X)}{max(X) - min(X)}\n",
    "\\end{align}\n",
    "\n",
    "this is performed as a column-wise operation (column = feature).\n",
    "\n",
    "As usual, $min(X)$ and $max(X)$ are computed on the training set."
   ]
  },
  {
   "cell_type": "markdown",
   "metadata": {
    "deletable": false,
    "editable": false,
    "nbgrader": {
     "cell_type": "markdown",
     "checksum": "70c3a1de57f97ec4920e6a6fa9ee23e5",
     "grade": false,
     "grade_id": "q11",
     "locked": true,
     "schema_version": 3,
     "solution": false,
     "task": false
    },
    "pycharm": {
     "name": "#%% md\n"
    }
   },
   "source": [
    "- 1.1.a **[2 points]** Complete `MinMaxScaler.fit` to compute and save the column-wise min and max.\n",
    "- 1.1.b **[1 points]** Complete `MinMaxScaler.transform` to apply the min-max scaling using the computed statistics."
   ]
  },
  {
   "cell_type": "code",
   "execution_count": 2,
   "metadata": {
    "deletable": false,
    "nbgrader": {
     "cell_type": "code",
     "checksum": "82e00c45744385ef3d336b873915df4e",
     "grade": true,
     "grade_id": "a11",
     "locked": false,
     "points": 3,
     "schema_version": 3,
     "solution": true,
     "task": false
    },
    "pycharm": {
     "name": "#%%\n"
    }
   },
   "outputs": [],
   "source": [
    "class MinMaxScaler:\n",
    "\n",
    "    def __init__(self):\n",
    "        self.min = None\n",
    "        self.max = None\n",
    "\n",
    "    def fit(self, X):\n",
    "        \"\"\"\n",
    "        Compute and save the features min and max of shape (num_features,)\n",
    "        (you can also save them with shape (1, num_features))\n",
    "        :param X: array of shape (num_samples, num_features)\n",
    "        :return: fitted scaler\n",
    "        \"\"\"\n",
    "        # Workspace 1.1.a\n",
    "        #BEGIN \n",
    "        self.min = np.amin(X)\n",
    "        self.max = np.amax(X)\n",
    "        #END\n",
    "        return self\n",
    "\n",
    "    def transform(self, X):\n",
    "        \"\"\"\n",
    "        Transform the given samples using the precomputed min and max\n",
    "        :param X: np.array of shape (num_samples, num_features)\n",
    "        :return: MinMax scaled X, of shape (num_samples, num_features)\n",
    "        \"\"\"\n",
    "        # Workspace 1.1.b\n",
    "        #BEGIN \n",
    "        num = X-self.min\n",
    "        den = self.max-self.min\n",
    "        return num/den\n",
    "        #END\n",
    "\n",
    "    def fit_transform(self, X):\n",
    "        \"\"\"\n",
    "        Fit using X and then transform it. Useful when we need to scale jsut once.\n",
    "        \"\"\"\n",
    "        self.fit(X)\n",
    "        return self.transform(X)"
   ]
  },
  {
   "cell_type": "code",
   "execution_count": 3,
   "metadata": {
    "pycharm": {
     "name": "#%%\n"
    }
   },
   "outputs": [
    {
     "data": {
      "image/png": "[encoded data removed]",
      "text/plain": [
       "<Figure size 432x288 with 1 Axes>"
      ]
     },
     "metadata": {
      "needs_background": "light"
     },
     "output_type": "display_data"
    }
   ],
   "source": [
    "house_prices = data.HousePrices()\n",
    "minmax_scaler = MinMaxScaler()\n",
    "# MinMax works on 2-d arrays, so we just need to parse the prices as a single column/feature\n",
    "# and then squeeze it back to 1-d array\n",
    "house_prices.y_train = minmax_scaler.fit_transform(house_prices.y_train[:, None])[:, 0]\n",
    "house_prices.y_test = minmax_scaler.transform(house_prices.y_test[:, None])[:, 0]\n",
    "plt.hist(house_prices.y_train, bins=40)\n",
    "plt.title(\"Scaled prices distribution\")\n",
    "plt.show()"
   ]
  },
  {
   "cell_type": "markdown",
   "metadata": {
    "deletable": false,
    "editable": false,
    "nbgrader": {
     "cell_type": "markdown",
     "checksum": "d9bce035031f7376f293d880cd67fc00",
     "grade": false,
     "grade_id": "q12",
     "locked": true,
     "schema_version": 3,
     "solution": false,
     "task": false
    },
    "pycharm": {
     "name": "#%% md\n"
    }
   },
   "source": [
    "We have seen that Ridge regression adds a regularization term to the least square using the L2 norm.\n",
    "Ridge regression is part of scikit-learn package ([read more](https://scikit-learn.org/stable/modules/generated/sklearn.linear_model.Ridge.html)), but we will be building our own implementation.\n",
    "You can test your implementation against scikit's.\n",
    "\n",
    "The objective of Ridge regression is to minimize:\n",
    "\n",
    "\\begin{align}\n",
    "\\frac{1}{N}\\sum_{i=1}^{N} ||y_i-\\mathbf{w}^T \\mathbf{x_i}-\\mathbf{b}||^2 + \\alpha||\\mathbf{w}||^2\n",
    "\\end{align}\n",
    "\n",
    "where $\\mathbf{w}$ denotes the coefficients vector for the linear regression model,\n",
    "$\\mathbf{b}$ the intercept vector, $\\alpha$ the trade-off regularization parameter, and $N$ the number of samples.\n",
    "\n",
    "Luckily for us, Ridge regression admits a closed form solution for $\\mathbf w$ and $\\mathbf{b}$.\n",
    "\n",
    "Let $X$ be the $N\\times d$ matrix whose rows are the training samples $(\\mathbf{x_i})_{i\\leq N}$ and $Y=(y_i)_{i\\leq N}$ the target values.\n",
    "\n",
    "First, we start by centering the features (columns of X) by subtracting the mean of the column to get centered matrix $\\tilde{X}$. Then the solution for the minimization is (trust me):\n",
    "\n",
    "\\begin{align}\n",
    "&\\mathbf{w^*} = (\\tilde{X}^T\\tilde{X}+ \\alpha I)^{-1}\\tilde{X}^TY \\\\\n",
    "&\\mathbf{b^*} = \\frac{1}{N} \\sum_{i}^{i=N} (y_i - \\mathbf{w^*}^T \\mathbf{x_i})\n",
    "\\end{align}\n",
    "\n",
    "Note that:\n",
    "- The samples in $b^*$ are not centered.\n",
    "- The predicted targets would be $\\hat{y}_i = \\mathbf{w^*}^T \\mathbf{x_i}+\\mathbf{b^*} $\n",
    "- $\\tilde{X}$ is only needed in the `fit` method when we compute $\\mathbf{w^*}$ and $\\mathbf{b^*}$\n",
    "\n",
    "A common practice is to scale or normalize (usually normalize) the features before fitting the model. It allows a _fair_ treatment of different features.\n",
    "You are allowed to use scikit's `StandardScaler` to do the normalization (yes, a thing called scaler is normalizing. Don't @ me, @ sklearn). Do not forget to run the same transformation on the test data before running the prediction.\n",
    "\n",
    "- 1.2 **[5 points]** Complete the `fit` and `evaluate` methods following the provided descriptions."
   ]
  },
  {
   "cell_type": "code",
   "execution_count": 4,
   "metadata": {
    "deletable": false,
    "nbgrader": {
     "cell_type": "code",
     "checksum": "905d77fd318287c1acefa7b60df8615e",
     "grade": true,
     "grade_id": "a12",
     "locked": false,
     "points": 5,
     "schema_version": 3,
     "solution": true,
     "task": false
    },
    "pycharm": {
     "name": "#%%\n"
    }
   },
   "outputs": [],
   "source": [
    "class Ridge(object):\n",
    "\n",
    "    def __init__(self, alpha, normalize=False):\n",
    "        \"\"\"\n",
    "        :param alpha: regularization parameter\n",
    "        :param normalize: boolean whether to normalize the features or not\n",
    "        \"\"\"\n",
    "\n",
    "        self.alpha = alpha  # our tuning / regularization parameter\n",
    "        self.coefficients = None  # our weights vector, w (in formulae above)\n",
    "        self.intercept = None  # our intercept parameter, b (in formulae above)\n",
    "        self.normalize = normalize  # boolean whether to normalize the features or not\n",
    "        self.scaler = StandardScaler()  # method by which to normalize the features (depends on self.normalize)\n",
    "\n",
    "    def fit(self, X, y):\n",
    "        \"\"\"\n",
    "        Fit the ridge model, train it using the provided data\n",
    "        Calculate the number of non-zero coefficients in the model weights and the norm using np.linalg.norm\n",
    "        :param X: training features (num_samples, num_features)\n",
    "        :param y: target values (num_samples)\n",
    "        :return: tuple (number of non-zeros coefficients of w, norm of w)\n",
    "        \"\"\"\n",
    "        num_nonzero_coefs, coef_norm = 0, 0\n",
    "        # Workspace 1.2.a\n",
    "        # TO DO: compute w and b and store them in self.coef_ and self.intercept\n",
    "        # HINT: use self.scaler first, if and only if self.normalize is True\n",
    "        #BEGIN \n",
    "        #normalize if true\n",
    "        if self.normalize == True:\n",
    "            X = self.scaler.fit_transform(X)\n",
    "        #Subtract columns by mean of each column to get centered matrix\n",
    "        Xmean = X.mean(axis = 0)\n",
    "        Xcentered = np.zeros((X.shape[0],X.shape[1]))\n",
    "        for i in range(X.shape[0]):\n",
    "            Xcentered[i,:] = X[i,:] - Xmean\n",
    "        #create inverse matrix\n",
    "        alpha = self.alpha\n",
    "        XT = np.transpose(Xcentered)\n",
    "        XTX = np.dot(XT,X)\n",
    "        alpha_I = alpha*np.identity(XTX.shape[0])\n",
    "        XTX_plus_alpha_I = XTX+alpha_I\n",
    "        inv_matrix = np.linalg.inv(XTX_plus_alpha_I)\n",
    "        #calculate weights\n",
    "        XTy = np.dot(XT,y)\n",
    "        weights = np.dot(inv_matrix,XTy)\n",
    "        #store weights\n",
    "        self.coefficients = weights\n",
    "        #calculate intercept\n",
    "        weights_T = np.transpose(weights)\n",
    "        wT_X = []\n",
    "        for i in range(X.shape[0]):\n",
    "            wx = np.dot(weights_T,X[i,:])\n",
    "            y_wx = y[i] - wx\n",
    "            wT_X.append(y_wx)\n",
    "        wT_X = np.array(wT_X)\n",
    "        intercept = np.sum(wT_X)/X.shape[0]\n",
    "        self.intercept = intercept\n",
    "        num_nonzero_coefs = np.count_nonzero(weights)\n",
    "        coef_norm = np.linalg.norm(weights)\n",
    "        #END\n",
    "        return num_nonzero_coefs, coef_norm\n",
    "\n",
    "    def evaluate(self, X, y):\n",
    "        \"\"\"\n",
    "        Compute Root mean square error (RMSE) between the predicted values and the actual values of the test data\n",
    "        :param X: instances array of shape (num_samples, num_features)\n",
    "        :param y: the true targets, of shape (num_samples)\n",
    "        :return: RMSE\n",
    "        \"\"\"\n",
    "\n",
    "        # Workspace 1.2.b\n",
    "        # TO DO: predict based on the test features and return the root mean squared error\n",
    "        #BEGIN \n",
    "        if self.normalize == True:\n",
    "            X = self.scaler.fit_transform(X)\n",
    "        weights = self.coefficients\n",
    "        bias_term = self.intercept\n",
    "        weights_T = np.transpose(weights)\n",
    "        #find predicted values\n",
    "        y_pred = []\n",
    "        for i in range(y.shape[0]):\n",
    "            yi = np.dot(weights_T,X[i,:]) + bias_term\n",
    "            y_pred.append(yi)\n",
    "        y_pred = np.array(y_pred)\n",
    "        #calculate rmse from mse (use y predicted values and given y test values)\n",
    "        mse = ((y - y_pred)**2).mean(axis=0)\n",
    "        root_mean_squared_error = np.sqrt(mse)\n",
    "        \n",
    "        #END\n",
    "        return root_mean_squared_error"
   ]
  },
  {
   "cell_type": "code",
   "execution_count": 5,
   "metadata": {
    "pycharm": {
     "name": "#%%\n"
    }
   },
   "outputs": [
    {
     "name": "stdout",
     "output_type": "stream",
     "text": [
      "Question 1.2.a: [PASS]\n",
      "Question 1.2.a: [PASS]\n",
      "Question 1.2.a: [PASS]\n",
      "Question 1.2.a: [PASS]\n"
     ]
    }
   ],
   "source": [
    "# Tests cells, do not remove\n",
    "# Should run without errors\n",
    "tests.test_ridge_coef(Ridge, normalize=False)\n",
    "tests.test_ridge_coef(Ridge, normalize=True)\n",
    "tests.test_ridge_intercept(Ridge, normalize=True)\n",
    "tests.test_ridge_intercept(Ridge, normalize=False)\n"
   ]
  },
  {
   "cell_type": "code",
   "execution_count": 6,
   "metadata": {},
   "outputs": [
    {
     "name": "stdout",
     "output_type": "stream",
     "text": [
      "The RMSE is: 0.02689540105121122\n"
     ]
    }
   ],
   "source": [
    "ridge = Ridge(alpha=0.2, normalize=False)\n",
    "ridge.fit(house_prices.X_train, house_prices.y_train)\n",
    "print(\"The RMSE is:\", ridge.evaluate(house_prices.X_test, house_prices.y_test))"
   ]
  },
  {
   "cell_type": "markdown",
   "metadata": {
    "deletable": false,
    "editable": false,
    "nbgrader": {
     "cell_type": "markdown",
     "checksum": "4b41a1efdc8c9b88c0be8ba2a7335354",
     "grade": false,
     "grade_id": "q13",
     "locked": true,
     "schema_version": 3,
     "solution": false,
     "task": false
    },
    "pycharm": {
     "name": "#%% md\n"
    }
   },
   "source": [
    "- 1.3 **[3 points]** Produce 3 plots as a function of $\\log_{10}(\\alpha)$ (logarithmic scale) that compare normalized versus non-normalized Ridge:\n",
    "    - The number of non-zero coefficients of $\\mathbf w$\n",
    "    - The norm of $\\mathbf w$\n",
    "    - The test RMSE (Root Mean Squared Error)\n",
    "\n",
    "Use the values of $\\alpha$ provided in the cell. What is the best `alpha` for each version of the two models?\n",
    "\n",
    "To produce multiple plots in the same figure, see the examples [here](https://matplotlib.org/devdocs/gallery/subplots_axes_and_figures/subplots_demo.html)"
   ]
  },
  {
   "cell_type": "code",
   "execution_count": 7,
   "metadata": {
    "deletable": false,
    "nbgrader": {
     "cell_type": "code",
     "checksum": "fe5a7f4ac64ab04983d323faa2db0662",
     "grade": true,
     "grade_id": "a13",
     "locked": false,
     "points": 3,
     "schema_version": 3,
     "solution": true,
     "task": false
    },
    "pycharm": {
     "name": "#%%\n"
    }
   },
   "outputs": [
    {
     "name": "stdout",
     "output_type": "stream",
     "text": [
      "When no normalization is used...\n",
      "The lowest RMSE is 0.026894637483277826 that comes from an alpha of 0.01\n",
      "When normalization is used...\n",
      "The lowest RMSE is 0.026900221312441373 that comes from an alpha of 1500.0\n"
     ]
    },
    {
     "data": {
      "image/png": "[encoded data removed]",
      "text/plain": [
       "<Figure size 720x648 with 3 Axes>"
      ]
     },
     "metadata": {
      "needs_background": "light"
     },
     "output_type": "display_data"
    }
   ],
   "source": [
    "alphas = [0.01, 0.05, 0.1, 0.2, 0.3, 1.0, 10.0, 100.0, 300.0, 500.0, 1e3, 1.5e3, 2e3, 5e3, 1e4]\n",
    "\n",
    "\n",
    "# Workspace 1.3\n",
    "#BEGIN \n",
    "x = np.arange(len(alphas))\n",
    "#create appendable lists for all variables to be graphed\n",
    "nonzeros = []\n",
    "norms = []\n",
    "RMSEs = []\n",
    "nonzeros_true = []\n",
    "norms_true = []\n",
    "RMSEs_true = []\n",
    "#Ridge without normalization, append lists\n",
    "for i in range(x.shape[0]):\n",
    "    ridge = Ridge(alpha=alphas[i], normalize=False)\n",
    "    nonzero, norm = ridge.fit(house_prices.X_train, house_prices.y_train)\n",
    "    RMSE = ridge.evaluate(house_prices.X_test, house_prices.y_test)\n",
    "    nonzeros.append(nonzero)\n",
    "    norms.append(norm)\n",
    "    RMSEs.append(RMSE)\n",
    "#Ridge with normalization, append lists\n",
    "for j in range(x.shape[0]):\n",
    "    ridge = Ridge(alpha=alphas[j], normalize=True)\n",
    "    nonzero, norm = ridge.fit(house_prices.X_train, house_prices.y_train)\n",
    "    RMSE = ridge.evaluate(house_prices.X_test, house_prices.y_test)\n",
    "    nonzeros_true.append(nonzero)\n",
    "    norms_true.append(norm)\n",
    "    RMSEs_true.append(RMSE)\n",
    "#lists to numpy arrays\n",
    "nonzeros = np.array(nonzeros)\n",
    "norms = np.array(norms)\n",
    "RMSEs = np.array(RMSEs)\n",
    "nonzeros_true = np.array(nonzeros_true)\n",
    "norms_true = np.array(norms_true)\n",
    "RMSEs_true = np.array(RMSEs_true)\n",
    "\n",
    "#Find the values that result in the lowest RMSEs for False & True normalization\n",
    "ind = np.argmin(RMSEs)\n",
    "print(\"When no normalization is used...\")\n",
    "print(\"The lowest RMSE is\", RMSEs[ind], \"that comes from an alpha of\" , alphas[ind])\n",
    "ind2 = np.argmin(RMSEs_true)\n",
    "print(\"When normalization is used...\")\n",
    "print(\"The lowest RMSE is\", RMSEs_true[ind2], \"that comes from an alpha of\" , alphas[ind2])\n",
    "\n",
    "#plot everything\n",
    "plt.rcParams[\"figure.figsize\"] = (10,8)\n",
    "fig, (ax1, ax2, ax3) = plt.subplots(3)\n",
    "fig.set_figheight(9)\n",
    "fig.tight_layout(pad=5.0)\n",
    "ax1.bar(x-0.2, nonzeros, 0.4)\n",
    "ax1.bar(x+0.2, nonzeros_true, 0.4)\n",
    "ax1.set_xticks(x)\n",
    "ax1.set_xticklabels(alphas, rotation=60)\n",
    "ax1.set_title(\"Number of Non-Zeros\")\n",
    "ax2.bar(x-0.2, norms, 0.4)\n",
    "ax2.bar(x+0.2, norms_true, 0.4)\n",
    "ax2.set_xticks(x)\n",
    "ax2.set_xticklabels(alphas, rotation=60)\n",
    "ax2.set_title(\"Norms\")\n",
    "ax3.bar(x-0.2, RMSEs, 0.4)\n",
    "ax3.bar(x+0.2, RMSEs_true, 0.4)\n",
    "ax3.set_xticks(x)\n",
    "ax3.set_xticklabels(alphas, rotation=60)\n",
    "ax3.set_title(\"Root Mean Square Errors\")\n",
    "plt.show()\n",
    "#END"
   ]
  },
  {
   "cell_type": "markdown",
   "metadata": {
    "deletable": false,
    "nbgrader": {
     "cell_type": "markdown",
     "checksum": "87e590454616cedacebd16e12fee8b16",
     "grade": true,
     "grade_id": "a13b",
     "locked": false,
     "points": 0,
     "schema_version": 3,
     "solution": true,
     "task": false
    },
    "pycharm": {
     "name": "#%% md\n"
    }
   },
   "source": [
    "#### Workspace 1.3b\n",
    "%BEGIN\n",
    "\n",
    "% When no normalization is used, an alpha value of 0.01 provides the lowest root mean square error. When normalization is used, an alpha value of 1500 provides the lowest root mean square error.\n",
    "\n",
    "%END"
   ]
  },
  {
   "cell_type": "markdown",
   "metadata": {
    "deletable": false,
    "editable": false,
    "nbgrader": {
     "cell_type": "markdown",
     "checksum": "b9fe7f5b0084b06469c94e83a8eb2ae1",
     "grade": false,
     "grade_id": "q14",
     "locked": true,
     "schema_version": 3,
     "solution": false,
     "task": false
    }
   },
   "source": [
    "Based on the results from previous questions, you should have noticed that the interpretation of Ridge regression is not an easy task.\n",
    "One way to solve that is to use a regularization that adds _sparsity_ to $\\mathbf w$ and excludes less important features.\n",
    "That's what Lasso regression is about.\n",
    "\n",
    "Lasso uses $l_1$ norm in the regularization term and minimizes:\n",
    "\\begin{align}\n",
    "\\frac{1}{2N}\\sum_i ||y_i-\\mathbf{w}^T \\mathbf{x}_i -\\mathbf{b}||^2 + \\alpha||\\mathbf{w}||_1\n",
    "\\end{align}\n",
    "\n",
    "It is part of scikit package ([more details](http://scikit-learn.org/stable/modules/generated/sklearn.linear_model.Lasso.html))\n",
    "and you're free to compare your implementation to scikit's.\n",
    "\n",
    "Unfortunately, there is no closed form solution for Lasso. Instead, we have powerful algorithms to optimize it.\n",
    "We will be using lasso-path solver from scikit-learn for our implementation to find $\\mathbf w^*$\n",
    "([see more](https://scikit-learn.org/stable/modules/generated/sklearn.linear_model.lasso_path.html#sklearn.linear_model.lasso_path)).\n",
    "(Note that `lasso_path` takes a list of $\\alpha$ in the argument `alphas` and not a scalar.)\n",
    "\n",
    "Similar to Ridge's, $ \\mathbf w^*_{lasso} $ is computed by feeding the centered $\\tilde{X}$ to `lasso_path`.\n",
    "Once $\\mathbf w^*$ is found, $\\mathbf{b}^*$ has the same formula from Ridge regression.\n",
    "\n",
    "- 1.4 **[4 points]** Complete the Lasso class in the same way Ridge class was created. (You're allowed to use inheritance for a more concise code, as long as the class has `coefficients` and `intercept` attributes.)"
   ]
  },
  {
   "cell_type": "code",
   "execution_count": 8,
   "metadata": {
    "deletable": false,
    "nbgrader": {
     "cell_type": "code",
     "checksum": "082eefa7cee4a116bad8797f18497236",
     "grade": true,
     "grade_id": "a14",
     "locked": false,
     "points": 4,
     "schema_version": 3,
     "solution": true,
     "task": false
    },
    "pycharm": {
     "name": "#%%\n"
    }
   },
   "outputs": [],
   "source": [
    "from sklearn.linear_model import lasso_path\n",
    "\n",
    "\n",
    "class Lasso(object):\n",
    "    def __init__(self, alpha, normalize=False):\n",
    "        \"\"\"\n",
    "        :param alpha: regularization parameter\n",
    "        :param normalize: boolean whether to normalize the features or not\n",
    "        \"\"\"\n",
    "        self.alpha = alpha  # our tuning / regularization parameter\n",
    "        self.coefficients = None  # our weights vector, w (in formulae above)\n",
    "        self.intercept = None  # our intercept parameter, b (in formulae above)\n",
    "        self.normalize = normalize  # boolean whether to normalize the features or not\n",
    "        self.scaler = StandardScaler()  # method by which to normalize the features (depends on self.normalize)\n",
    "\n",
    "    def fit(self, X, y):\n",
    "        \"\"\"\n",
    "        Fit the lasso model, train it using the provided data\n",
    "        Calculate the number of non-zero coefficients in the model weights and the norm using np.linalg.norm\n",
    "        :param X: training features (num_samples, num_features)\n",
    "        :param y: target values (num_samples)\n",
    "        :return: tuple (number of non-zeros coefficients of w: scalar, norm of w: scalar)\n",
    "        \"\"\"\n",
    "\n",
    "        num_nonzero_coefs, coef_norm = 0, 0\n",
    "        # Workspace 1.4.a\n",
    "        # TO DO: compute w and b and store then in self.coef_ and self.intercept\n",
    "        # TO DO: call lasso_path on the centered features to compute self.coef_\n",
    "        # HINT: use self.scaler first, if and only if self.normalize is True\n",
    "        #BEGIN \n",
    "        if self.normalize == True:\n",
    "            X = self.scaler.fit_transform(X)\n",
    "        #Subtract columns by mean of each column to get centered matrix\n",
    "        Xmean = X.mean(axis = 0)\n",
    "        Xcentered = np.zeros((X.shape[0],X.shape[1]))\n",
    "        for i in range(X.shape[0]):\n",
    "            Xcentered[i,:] = X[i,:] - Xmean\n",
    "        alpha = self.alpha\n",
    "        #use lasso path to get weights\n",
    "        alphas, coef_path, dual_gaps = lasso_path(Xcentered, y, alphas=[alpha])\n",
    "        weights = np.transpose(coef_path)\n",
    "        self.coefficients = weights\n",
    "        \n",
    "        #calculate intercept\n",
    "        weights_T = np.transpose(weights).flatten()\n",
    "        wT_X = []\n",
    "        for i in range(X.shape[0]):\n",
    "            wx = np.dot(weights_T,X[i,:])\n",
    "            y_wx = y[i] - wx\n",
    "            wT_X.append(y_wx)\n",
    "        wT_X = np.array(wT_X)\n",
    "        intercept = np.sum(wT_X)/X.shape[0]\n",
    "        self.intercept = intercept\n",
    "        num_nonzero_coefs = np.count_nonzero(weights)\n",
    "        coef_norm = np.linalg.norm(weights)\n",
    "        # code here\n",
    "        #END\n",
    "        return num_nonzero_coefs, coef_norm\n",
    "\n",
    "    def evaluate(self, X, y):\n",
    "        \"\"\"\n",
    "        Compute Root mean square error (RMSE) between the predicted values and the actual values  of the test data\n",
    "        :param X: features array, shape (num_samples, num_features)\n",
    "        :param y: true targets, shape (num_samples)\n",
    "        :return: RMSE\n",
    "        \"\"\"\n",
    "        root_mean_squared_error = 0\n",
    "        # Workspace 1.4.b\n",
    "        # TO DO: predict based on the test features and return the mean_squared_error\n",
    "        #BEGIN \n",
    "        if self.normalize == True:\n",
    "            X = self.scaler.fit_transform(X)\n",
    "        weights = self.coefficients\n",
    "        bias_term = self.intercept\n",
    "        weights_T = np.transpose(weights).flatten()\n",
    "        #find predicted values\n",
    "        y_pred = []\n",
    "        for i in range(y.shape[0]):\n",
    "            yi = np.dot(weights_T,X[i,:]) + bias_term\n",
    "            y_pred.append(yi)\n",
    "        y_pred = np.array(y_pred)\n",
    "        #calculate rmse from mse (use y predicted values and given y test values)\n",
    "        mse = ((y - y_pred)**2).mean(axis=0)\n",
    "        root_mean_squared_error = np.sqrt(mse)\n",
    "        #END\n",
    "        return root_mean_squared_error"
   ]
  },
  {
   "cell_type": "code",
   "execution_count": 9,
   "metadata": {
    "pycharm": {
     "name": "#%%\n"
    }
   },
   "outputs": [
    {
     "name": "stdout",
     "output_type": "stream",
     "text": [
      "Question 1.4.a: [PASS]\n",
      "Question 1.4.a: [PASS]\n",
      "Question 1.4.a: [PASS]\n",
      "Question 1.4.a: [PASS]\n"
     ]
    }
   ],
   "source": [
    "# Tests cell, do not remove\n",
    "# Test non-normalized Lasso\n",
    "tests.test_lasso_coef(Lasso, normalize=True)\n",
    "tests.test_lasso_coef(Lasso, normalize=False)\n",
    "tests.test_lasso_intercept(Lasso, normalize=True)\n",
    "tests.test_lasso_intercept(Lasso, normalize=False)"
   ]
  },
  {
   "cell_type": "markdown",
   "metadata": {
    "deletable": false,
    "editable": false,
    "nbgrader": {
     "cell_type": "markdown",
     "checksum": "8d98b0ff3a942b3ea4b00ca2b89eaa93",
     "grade": false,
     "grade_id": "q15",
     "locked": true,
     "schema_version": 3,
     "solution": false,
     "task": false
    },
    "pycharm": {
     "name": "#%% md\n"
    }
   },
   "source": [
    "- 1.5 **[3 points]** Produce 3 plots as a function of $\\log_{10}(\\alpha)$ (logarithmic scale) that compare normalized versus non-normalized Lasso:\n",
    "    - The number of non-zero coefficients of $\\mathbf w$\n",
    "    - The norm of $\\mathbf w$\n",
    "    - The test RMSE (Root Mean Squared Error)\n",
    "\n",
    "Use the values of $\\alpha$ provided in the cell. What is the best `alpha` for each version of the two models?\n",
    "\n",
    "Can you get all coefficients of $\\mathbf w$ to 0 for the non-normalized Lasso?\n"
   ]
  },
  {
   "cell_type": "code",
   "execution_count": 10,
   "metadata": {
    "deletable": false,
    "nbgrader": {
     "cell_type": "code",
     "checksum": "1023b8532f36cc21c11adeff6d52494b",
     "grade": true,
     "grade_id": "a15",
     "locked": false,
     "points": 3,
     "schema_version": 3,
     "solution": true,
     "task": false
    },
    "pycharm": {
     "name": "#%%\n"
    }
   },
   "outputs": [
    {
     "name": "stdout",
     "output_type": "stream",
     "text": [
      "When no normalization is used...\n",
      "The lowest RMSE is 0.02769274372682147 that comes from an alpha of 0.001\n",
      "When normalization is used...\n",
      "The lowest RMSE is 0.02697428355136565 that comes from an alpha of 0.001\n",
      "When an alpha value of 200 is used without normalization, there are 0 nonzero numbers\n"
     ]
    },
    {
     "data": {
      "image/png": "[encoded data removed]",
      "text/plain": [
       "<Figure size 720x648 with 3 Axes>"
      ]
     },
     "metadata": {
      "needs_background": "light"
     },
     "output_type": "display_data"
    }
   ],
   "source": [
    "alphas = [1e-3, 5e-3, 0.01, 0.05, 0.1, 0.2]\n",
    "# Workspace 1.5\n",
    "#BEGIN \n",
    "x = np.arange(len(alphas))\n",
    "#create appendable lists for all variables to be graphed\n",
    "nonzeros = []\n",
    "norms = []\n",
    "RMSEs = []\n",
    "nonzeros_true = []\n",
    "norms_true = []\n",
    "RMSEs_true = []\n",
    "#Ridge without normalization, append lists\n",
    "for i in range(x.shape[0]):\n",
    "    lasso = Lasso(alpha=alphas[i], normalize=False)\n",
    "    nonzero, norm = lasso.fit(house_prices.X_train, house_prices.y_train)\n",
    "    RMSE = lasso.evaluate(house_prices.X_test, house_prices.y_test)\n",
    "    nonzeros.append(nonzero)\n",
    "    norms.append(norm)\n",
    "    RMSEs.append(RMSE)\n",
    "#Ridge with normalization, append lists\n",
    "for j in range(x.shape[0]):\n",
    "    lasso = Lasso(alpha=alphas[j], normalize=True)\n",
    "    nonzero, norm = lasso.fit(house_prices.X_train, house_prices.y_train)\n",
    "    RMSE = lasso.evaluate(house_prices.X_test, house_prices.y_test)\n",
    "    nonzeros_true.append(nonzero)\n",
    "    norms_true.append(norm)\n",
    "    RMSEs_true.append(RMSE)\n",
    "#lists to numpy arrays\n",
    "nonzeros = np.array(nonzeros)\n",
    "norms = np.array(norms)\n",
    "RMSEs = np.array(RMSEs)\n",
    "nonzeros_true = np.array(nonzeros_true)\n",
    "norms_true = np.array(norms_true)\n",
    "RMSEs_true = np.array(RMSEs_true)\n",
    "\n",
    "#Find the values that result in the lowest RMSEs for False & True normalization\n",
    "ind = np.argmin(RMSEs)\n",
    "print(\"When no normalization is used...\")\n",
    "print(\"The lowest RMSE is\", RMSEs[ind], \"that comes from an alpha of\" , alphas[ind])\n",
    "ind2 = np.argmin(RMSEs_true)\n",
    "print(\"When normalization is used...\")\n",
    "print(\"The lowest RMSE is\", RMSEs_true[ind2], \"that comes from an alpha of\" , alphas[ind2])\n",
    "lasso = Lasso(alpha=200, normalize=False)\n",
    "nonzero, norm = lasso.fit(house_prices.X_train, house_prices.y_train)\n",
    "print(\"When an alpha value of 200 is used without normalization, there are\", nonzero, \"nonzero numbers\")\n",
    "\n",
    "\n",
    "\n",
    "#plot everything\n",
    "plt.rcParams[\"figure.figsize\"] = (10,8)\n",
    "fig, (ax1, ax2, ax3) = plt.subplots(3)\n",
    "fig.set_figheight(9)\n",
    "fig.tight_layout(pad=5.0)\n",
    "ax1.bar(x-0.2, nonzeros, 0.4)\n",
    "ax1.bar(x+0.2, nonzeros_true, 0.4)\n",
    "ax1.set_xticks(x)\n",
    "ax1.set_xticklabels(alphas, rotation=60)\n",
    "ax1.set_title(\"Number of Non-Zeros\")\n",
    "ax2.bar(x-0.2, norms, 0.4)\n",
    "ax2.bar(x+0.2, norms_true, 0.4)\n",
    "ax2.set_xticks(x)\n",
    "ax2.set_xticklabels(alphas, rotation=60)\n",
    "ax2.set_title(\"Norms\")\n",
    "ax3.bar(x-0.2, RMSEs, 0.4)\n",
    "ax3.bar(x+0.2, RMSEs_true, 0.4)\n",
    "ax3.set_xticks(x)\n",
    "ax3.set_xticklabels(alphas, rotation=60)\n",
    "ax3.set_title(\"Root Mean Square Errors\")\n",
    "plt.show()\n",
    "#END"
   ]
  },
  {
   "cell_type": "markdown",
   "metadata": {
    "deletable": false,
    "nbgrader": {
     "cell_type": "markdown",
     "checksum": "bf4a686b42cb9de59e65dca6ca442cb4",
     "grade": true,
     "grade_id": "a15b",
     "locked": false,
     "points": 0,
     "schema_version": 3,
     "solution": true,
     "task": false
    },
    "pycharm": {
     "name": "#%% md\n"
    }
   },
   "source": [
    "#### Workspace 1.5b\n",
    "%BEGIN\n",
    "\n",
    "% When no normalization is used, an alpha value of 0.01 provides the lowest root mean square error. When normalization is used, an alpha value of 0.01 provides the lowest root mean square error as well. \n",
    "% All coefficients can be brought to zero when no normalization is used, but this does not happen with the given values of alpha. When a value of 200 is used as the alpha value, all of the coefficients are brought to zero.\n",
    "\n",
    "%END"
   ]
  },
  {
   "cell_type": "markdown",
   "metadata": {
    "deletable": false,
    "editable": false,
    "nbgrader": {
     "cell_type": "markdown",
     "checksum": "dbe2b8623c92d9fde890c4755a5fdc26",
     "grade": false,
     "grade_id": "q16",
     "locked": true,
     "schema_version": 3,
     "solution": false,
     "task": false
    }
   },
   "source": [
    "- 1.6 **[3 points]** (Write-up) Compare the two algorithms on the house prices dataset: compare the number of non-zero coordinates of Ridge vs Lasso and their RMSE on each dataset. Which type of regression is better? When does normalization improve the RMSE?"
   ]
  },
  {
   "cell_type": "markdown",
   "metadata": {
    "deletable": false,
    "nbgrader": {
     "cell_type": "markdown",
     "checksum": "16e3e96e6a8a736508c94894ba481731",
     "grade": true,
     "grade_id": "a16",
     "locked": false,
     "points": 3,
     "schema_version": 3,
     "solution": true,
     "task": false
    }
   },
   "source": [
    "#### Workspace 1.6\n",
    "\n",
    "%BEGIN\n",
    "\n",
    "%In ridge regression, there are 12 non-zero coefficients for each value of alpha that is tested. There are no coefficients that go to zero. In lasso regression, coefficients are made to be 0 when features are discarded. At the lowest alpha value, there are 9 (not normalized) and 10 (normalized) non-zero values. As the value of alpha increases, features are dropped and there are less non-zero coefficients. When normalization is used, features are dropped at a faster rate as alpha increases.\n",
    "% Overall, it appears that ridge regression is better because it results in a lower RSME. This appears to be the case for both, non normalized and normalized cases. \n",
    "%normalization appears to improve the RMSE in lasso regression when the value of alpha is lower (<0.01). In ridge regression, normalization appears to improve the RMSE when the value of alpha is higher (>100).\n",
    "\n",
    "\n",
    "%END"
   ]
  },
  {
   "cell_type": "markdown",
   "metadata": {
    "deletable": false,
    "editable": false,
    "nbgrader": {
     "cell_type": "markdown",
     "checksum": "5e2eb13340eb36c410f8e1937598bd53",
     "grade": false,
     "grade_id": "q17",
     "locked": true,
     "schema_version": 3,
     "solution": false,
     "task": false
    },
    "pycharm": {
     "name": "#%% md\n"
    }
   },
   "source": [
    "Lasso is expected to have higher level of sparsity compared to Ridge. On the other hand, when the number of features is very large\n",
    "(larger than the sample size), Lasso can struggle at picking the right features.\n",
    "Elastic Net try to combine both types of regularization to get the best of both worlds by minimizing:\n",
    "\n",
    "\\begin{align}\n",
    "\\frac{1}{2N} \\sum_i ||y_i - \\mathbf{w}^T\\mathbf{x}_i -\\mathbf{b}||^2_2 + \\alpha\\beta||\\mathbf{w}||_1 + \\frac{\\alpha}{2}(1 - \\beta)||\\mathbf{w}||^2_2\n",
    "\\end{align}\n",
    "\n",
    "where $\\beta\\in[0,1]$ is the $l_1$ ratio ($\\beta=1$ for Lasso and $\\beta=0$ for Ridge).\n",
    "\n",
    "We'll be using [ElasticNet](https://scikit-learn.org/stable/modules/generated/sklearn.linear_model.ElasticNet.html) solver from scikit.\n",
    "\n",
    "- 1.7 **[2 points]** Complete ElasticNet regression class `Elastic` by implementing fit and evaluate methods with the same signature as Lasso and Ridge. (Again, you can use inheritance)"
   ]
  },
  {
   "cell_type": "code",
   "execution_count": 11,
   "metadata": {
    "deletable": false,
    "nbgrader": {
     "cell_type": "code",
     "checksum": "5dd6f5fc8561b82e7eee657f7d0c1f8b",
     "grade": true,
     "grade_id": "a17",
     "locked": false,
     "points": 2,
     "schema_version": 3,
     "solution": true,
     "task": false
    },
    "pycharm": {
     "name": "#%%\n"
    }
   },
   "outputs": [],
   "source": [
    "from sklearn.linear_model import ElasticNet\n",
    "\n",
    "\n",
    "class Elastic(object):\n",
    "    def __init__(self, alpha, beta=0.7, normalize=False):\n",
    "        \"\"\"\n",
    "        :param alpha: regularization parameter\n",
    "        :param beta: l1_ratio for ElasticNet\n",
    "        :param normalize: normalization flag\n",
    "        \"\"\"\n",
    "        self.alpha = alpha\n",
    "        self.beta = beta\n",
    "        self.normalize = normalize\n",
    "        self.scaler = StandardScaler()\n",
    "        self.coefficients = None\n",
    "        self.intercept = None\n",
    "        self._model = ElasticNet(alpha=alpha, l1_ratio=beta)\n",
    "\n",
    "    def fit(self, X, y):\n",
    "        \"\"\"\n",
    "        fit self._model using the provided data and store the coef and intercept in self.coef_ and self.intercept\n",
    "        Calculate the number of non-zero coefficients in the model weights and the norm using np.linalg.norm\n",
    "        :param X: training features (n_samples, n_features)\n",
    "        :param y: target values (n_samples)\n",
    "        :return: tuple (number of non-zeros coefficients of w, norm of w)\n",
    "        \"\"\"\n",
    "\n",
    "        num_nonzero_coefs, coef_norm = 0, 0\n",
    "        # Workspace 1.7.a\n",
    "        # TO DO: Complete Elastic Net\n",
    "        # TO DO: save w and b in self.coef_ and self.intercept respectively\n",
    "        #BEGIN \n",
    "        if self.normalize == True:\n",
    "            X = self.scaler.fit_transform(X)\n",
    "        #Subtract columns by mean of each column to get centered matrix\n",
    "        Xmean = X.mean(axis = 0)\n",
    "        Xcentered = np.zeros((X.shape[0],X.shape[1]))\n",
    "        for i in range(X.shape[0]):\n",
    "            Xcentered[i,:] = X[i,:] - Xmean\n",
    "        alpha = self.alpha\n",
    "        beta = self.beta\n",
    "        #Use ElasticNet to fit Xcentered and y\n",
    "        regr = ElasticNet(alpha = alpha, random_state=0)\n",
    "        regr.fit(Xcentered, y)\n",
    "        self.coefficients = regr.coef_\n",
    "        #get intercepts form weights\n",
    "        weights = self.coefficients\n",
    "        weights_T = np.transpose(weights).flatten()\n",
    "        wT_X = []\n",
    "        for i in range(X.shape[0]):\n",
    "            wx = np.dot(weights_T,X[i,:])\n",
    "            y_wx = y[i] - wx\n",
    "            wT_X.append(y_wx)\n",
    "        wT_X = np.array(wT_X)\n",
    "        intercept = np.sum(wT_X)/X.shape[0]\n",
    "        self.intercept = intercept\n",
    "        #nonzero coefficients and coefficient norm\n",
    "        num_nonzero_coefs = np.count_nonzero(weights)\n",
    "        coef_norm = np.linalg.norm(weights)\n",
    "        # code here\n",
    "        #END\n",
    "        return num_nonzero_coefs, coef_norm\n",
    "\n",
    "    def evaluate(self, test_x, test_y):\n",
    "        \"\"\"\n",
    "        Compute Root mean square error (RMSE) between the predicted values and the actual values  of the test data\n",
    "        :param test_x: test features\n",
    "        :param test_y: test target\n",
    "        :return: RMSE\n",
    "        \"\"\"\n",
    "\n",
    "        root_mean_squared_error = 0\n",
    "        # TO DO: predict based on the test features and return the mean_squared_error\n",
    "        # Workspace 1.7.b\n",
    "        #BEGIN \n",
    "        if self.normalize == True:\n",
    "            test_x = self.scaler.fit_transform(test_x)\n",
    "        weights = self.coefficients\n",
    "        bias_term = self.intercept\n",
    "        weights_T = np.transpose(weights).flatten()\n",
    "        #find predicted values\n",
    "        y_pred = []\n",
    "        for i in range(test_y.shape[0]):\n",
    "            yi = np.dot(weights_T,test_x[i,:]) + bias_term\n",
    "            y_pred.append(yi)\n",
    "        y_pred = np.array(y_pred)\n",
    "        #calculate rmse from mse (use y predicted values and given y test values)\n",
    "        mse = ((test_y - y_pred)**2).mean(axis=0)\n",
    "        root_mean_squared_error = np.sqrt(mse)\n",
    "        #END\n",
    "        return root_mean_squared_error"
   ]
  },
  {
   "cell_type": "code",
   "execution_count": 12,
   "metadata": {
    "pycharm": {
     "name": "#%%\n"
    }
   },
   "outputs": [
    {
     "name": "stdout",
     "output_type": "stream",
     "text": [
      "Question 1.7.a: [PASS]\n",
      "Question 1.7.a: [PASS]\n",
      "Question 1.7.a: [PASS]\n",
      "Question 1.7.a: [PASS]\n"
     ]
    }
   ],
   "source": [
    "# Tests cell, do not remove\n",
    "tests.test_elastic_coef(Elastic, normalize=False)\n",
    "tests.test_elastic_coef(Elastic, normalize=True)\n",
    "tests.test_elastic_intercept(Elastic, normalize=False)\n",
    "tests.test_elastic_intercept(Elastic, normalize=False)"
   ]
  },
  {
   "cell_type": "markdown",
   "metadata": {
    "deletable": false,
    "editable": false,
    "nbgrader": {
     "cell_type": "markdown",
     "checksum": "fba05394f02cd7095d75bef208ddb355",
     "grade": false,
     "grade_id": "q18",
     "locked": true,
     "schema_version": 3,
     "solution": false,
     "task": false
    },
    "pycharm": {
     "name": "#%% md\n"
    }
   },
   "source": [
    "- 1.8 **[2 points]** Produce 3 plots as a function of $\\log_{10}(\\alpha)$ (logarithmic scale) that compare normalized versus non-normalized `Elastic`:\n",
    "    - The number of non-zero coefficients of $\\mathbf w$\n",
    "    - The norm of $\\mathbf w$\n",
    "    - The test RMSE (Root Mean Squared Error)\n",
    "\n",
    "Use the values of $\\alpha$ provided in the cell, and $\\beta= 0.3$. What is the best `alpha` for each version of the two models? How does it compare to the previous models.\n"
   ]
  },
  {
   "cell_type": "code",
   "execution_count": 13,
   "metadata": {
    "deletable": false,
    "nbgrader": {
     "cell_type": "code",
     "checksum": "bbf4146692776f2134d193594c623574",
     "grade": true,
     "grade_id": "a18",
     "locked": false,
     "points": 2,
     "schema_version": 3,
     "solution": true,
     "task": false
    },
    "pycharm": {
     "name": "#%%\n"
    }
   },
   "outputs": [
    {
     "name": "stdout",
     "output_type": "stream",
     "text": [
      "When no normalization is used...\n",
      "The lowest RMSE is 0.02692079215648065 that comes from an alpha of 0.0001\n",
      "When normalization is used...\n",
      "The lowest RMSE is 0.026954036377065303 that comes from an alpha of 0.001\n",
      "When an alpha value of 200 is used without normalization, there are 0 nonzero numbers\n"
     ]
    },
    {
     "data": {
      "image/png": "[encoded data removed]",
      "text/plain": [
       "<Figure size 720x648 with 3 Axes>"
      ]
     },
     "metadata": {
      "needs_background": "light"
     },
     "output_type": "display_data"
    }
   ],
   "source": [
    "alphas = [1e-4, 1e-3, 1e-2, 0.02, 0.05, 0.1, 0.2, 0.3, 1.0, 2.0, 10.0]\n",
    "# Workspace 1.2\n",
    "#BEGIN \n",
    "x = np.arange(len(alphas))\n",
    "#create appendable lists for all variables to be graphed\n",
    "nonzeros = []\n",
    "norms = []\n",
    "RMSEs = []\n",
    "nonzeros_true = []\n",
    "norms_true = []\n",
    "RMSEs_true = []\n",
    "#Ridge without normalization, append lists\n",
    "for i in range(x.shape[0]):\n",
    "    elastic = Elastic(alpha=alphas[i], normalize=False)\n",
    "    nonzero, norm = elastic.fit(house_prices.X_train, house_prices.y_train)\n",
    "    RMSE = elastic.evaluate(house_prices.X_test, house_prices.y_test)\n",
    "    nonzeros.append(nonzero)\n",
    "    norms.append(norm)\n",
    "    RMSEs.append(RMSE)\n",
    "#Ridge with normalization, append lists\n",
    "for j in range(x.shape[0]):\n",
    "    elastic = Elastic(alpha=alphas[j], normalize=True)\n",
    "    nonzero, norm = elastic.fit(house_prices.X_train, house_prices.y_train)\n",
    "    RMSE = elastic.evaluate(house_prices.X_test, house_prices.y_test)\n",
    "    nonzeros_true.append(nonzero)\n",
    "    norms_true.append(norm)\n",
    "    RMSEs_true.append(RMSE)\n",
    "#lists to numpy arrays\n",
    "nonzeros = np.array(nonzeros)\n",
    "norms = np.array(norms)\n",
    "RMSEs = np.array(RMSEs)\n",
    "nonzeros_true = np.array(nonzeros_true)\n",
    "norms_true = np.array(norms_true)\n",
    "RMSEs_true = np.array(RMSEs_true)\n",
    "\n",
    "#Find the values that result in the lowest RMSEs for False & True normalization\n",
    "ind = np.argmin(RMSEs)\n",
    "print(\"When no normalization is used...\")\n",
    "print(\"The lowest RMSE is\", RMSEs[ind], \"that comes from an alpha of\" , alphas[ind])\n",
    "ind2 = np.argmin(RMSEs_true)\n",
    "print(\"When normalization is used...\")\n",
    "print(\"The lowest RMSE is\", RMSEs_true[ind2], \"that comes from an alpha of\" , alphas[ind2])\n",
    "lasso = Lasso(alpha=200, normalize=False)\n",
    "nonzero, norm = lasso.fit(house_prices.X_train, house_prices.y_train)\n",
    "print(\"When an alpha value of 200 is used without normalization, there are\", nonzero, \"nonzero numbers\")\n",
    "\n",
    "\n",
    "\n",
    "#plot everything\n",
    "plt.rcParams[\"figure.figsize\"] = (10,8)\n",
    "fig, (ax1, ax2, ax3) = plt.subplots(3)\n",
    "fig.set_figheight(9)\n",
    "fig.tight_layout(pad=5.0)\n",
    "ax1.bar(x-0.2, nonzeros, 0.4)\n",
    "ax1.bar(x+0.2, nonzeros_true, 0.4)\n",
    "ax1.set_xticks(x)\n",
    "ax1.set_xticklabels(alphas, rotation=60)\n",
    "ax1.set_title(\"Number of Non-Zeros\")\n",
    "ax2.bar(x-0.2, norms, 0.4)\n",
    "ax2.bar(x+0.2, norms_true, 0.4)\n",
    "ax2.set_xticks(x)\n",
    "ax2.set_xticklabels(alphas, rotation=60)\n",
    "ax2.set_title(\"Norms\")\n",
    "ax3.bar(x-0.2, RMSEs, 0.4)\n",
    "ax3.bar(x+0.2, RMSEs_true, 0.4)\n",
    "ax3.set_xticks(x)\n",
    "ax3.set_xticklabels(alphas, rotation=60)\n",
    "ax3.set_title(\"Root Mean Square Errors\")\n",
    "plt.show()\n",
    "#END"
   ]
  },
  {
   "cell_type": "markdown",
   "metadata": {
    "deletable": false,
    "nbgrader": {
     "cell_type": "markdown",
     "checksum": "08961fe33266754a6159026a7bece0f1",
     "grade": true,
     "grade_id": "a18b",
     "locked": false,
     "points": 0,
     "schema_version": 3,
     "solution": true,
     "task": false
    }
   },
   "source": [
    "#### Workspace 1.8.b\n",
    "\n",
    "%BEGIN\n",
    "\n",
    "% The best alpha to use when no normalization is used is 0.0001. The best alpha to use when no normalization is used is 0.001.\n",
    "\n",
    "%END"
   ]
  },
  {
   "cell_type": "markdown",
   "metadata": {
    "deletable": false,
    "editable": false,
    "nbgrader": {
     "cell_type": "markdown",
     "checksum": "ef83a2a530c7d641569eb7e24a59be8b",
     "grade": false,
     "grade_id": "q19",
     "locked": true,
     "schema_version": 3,
     "solution": false,
     "task": false
    }
   },
   "source": [
    "1.9 **[3 points]** What are the cons and pros of each of the three types of regressions we have tested?"
   ]
  },
  {
   "cell_type": "markdown",
   "metadata": {
    "deletable": false,
    "nbgrader": {
     "cell_type": "markdown",
     "checksum": "09afc142fe1eac8c9194ebfec60a357a",
     "grade": true,
     "grade_id": "a19",
     "locked": false,
     "points": 3,
     "schema_version": 3,
     "solution": true,
     "task": false
    },
    "pycharm": {
     "name": "#%% md\n"
    }
   },
   "source": [
    "#### Workspace 1.9\n",
    "\n",
    "%BEGIN\n",
    "\n",
    "% In this example Ridge is more accurate than lasso, but not as accurate as ElasticNet. Unlike Lasso, Ridge shrinks the coefficients of highly correlated variables towards eachother. The disadvantage of Ridge is that it does not nullify the impact of irrelevant features. Ridge works well when there are a large number of parameters with similar values. However, it does not work well when there are a small number of significant parameters and others are close to zero. In most cases, ridge will work better than lasso because it does not drop the impact of important features.\n",
    "\n",
    "% In this example, Lasso is the least accurate of the three regressions tested. Lasso uses sparse selection and is forced to have many zeros and a small number of non zero weights corresponding to the features. When there are highly correlated variables, Lasso picks one over the other. Lasso can work well when there are a small number of significant parameters and the others are close to zero. However, it does not work well when features that could still be considered significant are dropped. This appears to be what happened in this example. Sparse selection can be helful, but it can definitely be harmful when there are a large number of parameters that are of similar values.\n",
    "\n",
    "% In this example, ElasticNet is more accurate than Ridge and Lasso regression. The RMSE calculated from ElasticNet is lower than the RMSE calculated from Ridge or Lasso. ElasticNet works well because it minimzes the disadvantages that occur when using both ridge and lasso regression. ElasticNet performs sparse selection, but not to the extent that lasso does. The impact of irrelevant features can be dropped. However, this does not happen when there are features that are highly correlated. Generally, the main benefit of using ElasticNet is that it tends to be more accurate than Ridge and Lasso. One disadvandage of using ElasticNet is the higher computational cost, which is caused by cross validating the relative weight of L1 vs L2 penalty. Furthermore, using ElasticNet could result in overfitting.\n",
    "\n",
    "%END"
   ]
  },
  {
   "cell_type": "markdown",
   "metadata": {
    "deletable": false,
    "editable": false,
    "nbgrader": {
     "cell_type": "markdown",
     "checksum": "121953e598fbe84a7427016f10b6935d",
     "grade": false,
     "grade_id": "problem2",
     "locked": true,
     "schema_version": 3,
     "solution": false,
     "task": false
    }
   },
   "source": [
    "***\n",
    "## Problem 2: Logistic Regression for Binary Classification (30 points)\n",
    "\n",
    "The second part of this assignment will be dealing with Logistic Regression.\n",
    "While the name \"regression\" suggests otherwise, Logistic Regression is actually used for classification.\n",
    "It's a regression problem because the targets are the continuous likelihoods of the outcomes.\n",
    "\n",
    "Our dataset is the same one we used in Problem Set 1. We'll start with a binary Logistic Regression. So our class label is `0` if the digit is even and 0 otherwise."
   ]
  },
  {
   "cell_type": "code",
   "execution_count": 15,
   "metadata": {
    "pycharm": {
     "name": "#%%\n"
    }
   },
   "outputs": [],
   "source": [
    "binary_digits = data.BinaryDigits()"
   ]
  },
  {
   "cell_type": "markdown",
   "metadata": {
    "deletable": false,
    "editable": false,
    "nbgrader": {
     "cell_type": "markdown",
     "checksum": "d5e218b3c7a406621501cd3432ebdd54",
     "grade": false,
     "grade_id": "nll",
     "locked": true,
     "schema_version": 3,
     "solution": false,
     "task": false
    },
    "pycharm": {
     "name": "#%% md\n"
    }
   },
   "source": [
    "Using the same notations from Problem 1 (this time with discrete targets $y_i$ in {0, 1}), _Logistic Regression_ is about minimizing the **N**egative **L**og **L**ikelihood objective defined as:\n",
    "\\begin{align}\n",
    "\\textrm{NLL}(\\mathbf{w}) = -\\frac{1}{N}\\sum_{i=1}^N \\left[y_i \\log \\sigma(\\mathbf{w}^T{\\mathbf{x_i}}) + (1-y_i)\\log(1 - \\sigma(\\mathbf{w}^T\\mathbf{x_i}))\\right]\n",
    "\\end{align}\n",
    "\n",
    "You might be wondering: where is the intercept?\n",
    "We're including the intercept in $(\\mathbf x_i)_i$ since we'll be adding a constant feature $\\mathbf x_{i,0} = 1$ to all samples $(\\mathbf x_i)_i$.\n",
    "We will call it the zero-th column and the intercept will be $\\mathbf{w}_0$.\n",
    "This zero-th column will be appended to the training samples in `fit` method and the test samples in `predict` method. $\\sigma$ is the sigmoid function seen in class.\n",
    "\n",
    "The gradient of **NLL** w.r.t $\\mathbf{w}$ is:\n",
    "\n",
    "\\begin{align}\n",
    "\\frac{\\partial \\textrm{NLL}}{\\partial \\mathbf{w}} = \\frac{1}{N} \\sum_i \\left[\\sigma(\\mathbf{w}^T\\mathbf{x}_i)-y_i)\\right]\\mathbf{x}_i\n",
    "\\end{align}"
   ]
  },
  {
   "cell_type": "markdown",
   "metadata": {
    "deletable": false,
    "editable": false,
    "nbgrader": {
     "cell_type": "markdown",
     "checksum": "8f95c51d954665df0971edef4cafcf0f",
     "grade": false,
     "grade_id": "q21_25",
     "locked": true,
     "schema_version": 3,
     "solution": false,
     "task": false
    },
    "pycharm": {
     "name": "#%% md\n"
    }
   },
   "source": [
    "- 2.1 **[3 points]** Complete the `sigmoid` function to return the sigmoid values $\\sigma(\\mathbf{w}^T{\\mathbf{x_i}})$ given features array. You have to truncate the score $\\mathbf{w}^T{\\mathbf{x_i}}$ to the interval $[-25, 25]$ to avoid overflow of `np.exp`\n",
    "\n",
    "\n",
    "- 2.2 **[3 points]** Finish the `compute_gradient` function to return the derivative of the cost w.r.t. the weights\n",
    "\n",
    "- 2.3 **[3 points]** Finish the `batch_update` function so that it performs batch gradient descent using the provided batch data\n",
    "\n",
    "- 2.4 **[4 points]** Finish the `fit` function so that it performs several training epochs and returns the Recall score on the validation data at the end of each epoch. Initialize $\\mathbf{w}$ so that $\\mathbf{w}_j = \\frac{1}{d}$\n",
    "\n",
    "- 2.5 **[2 points]** Finish the `predict` method to return the predicted labels (either 0 or 1)\n"
   ]
  },
  {
   "cell_type": "code",
   "execution_count": 28,
   "metadata": {
    "deletable": false,
    "nbgrader": {
     "cell_type": "code",
     "checksum": "2caf5fc6ded761f14377970f1a5b6455",
     "grade": true,
     "grade_id": "a21_25",
     "locked": false,
     "points": 15,
     "schema_version": 3,
     "solution": true,
     "task": false
    },
    "pycharm": {
     "name": "#%%\n"
    }
   },
   "outputs": [],
   "source": [
    "from sklearn.metrics import recall_score\n",
    "\n",
    "class LogisticRegression:\n",
    "\n",
    "    def __init__(self, eta=0.1, alpha=0):\n",
    "        \"\"\"\n",
    "        Create a logistic regression classifier\n",
    "        :param eta: Learning rate\n",
    "        :param alpha: We will use this parameter later (IN BONUS)\n",
    "        \"\"\"\n",
    "\n",
    "        self.w = None  # uninitialized w\n",
    "        self.eta = eta  # learning rate\n",
    "        self.initialized = False # flag used to initialize w only once, it allows calling fit multiple times\n",
    "        self.alpha = alpha  # regularization / penalty term (USED IN BONUS)\n",
    "\n",
    "    def sigmoid(self, x, threshold=25.0):\n",
    "        \"\"\"\n",
    "\n",
    "        :param x: features array of shape (num_samples, num_features + 1) (zero-th column appended)\n",
    "        :param threshold: the truncating threshold for np.exp, default to 25.0\n",
    "        :return: sigmoid values , of shape (num_samples,)\n",
    "        \"\"\"\n",
    "        # Workspace 2.1\n",
    "        # TO DO: Complete this function to return the output of applying the sigmoid function to the score\n",
    "        #BEGIN \n",
    "        w = self.w\n",
    "        #print(\"x\", x.shape)\n",
    "        #print(\"w\", w.shape)\n",
    "        sigmoids = []\n",
    "        for i in range(x.shape[0]):\n",
    "            X = x[i,:]\n",
    "            wX = np.dot(w.T,X)\n",
    "            if wX > 25:\n",
    "                wX = 25\n",
    "            if wX < -25:\n",
    "                wX = -25\n",
    "            sigmoid = 1 / (1+np.exp(-wX))\n",
    "            sigmoids.append(sigmoid)\n",
    "        sigmoids = np.array(sigmoids)\n",
    "        #print(\"sigmoids\", sigmoids)\n",
    "        return sigmoids\n",
    "            \n",
    "        #END\n",
    "\n",
    "    def compute_gradient(self, x, y):\n",
    "        \"\"\"\n",
    "        Return the derivative of the cost w.r.t to the weights. Don't forget to average by batch_size\n",
    "        :param x:  Feature vector, shape (batch_size, num_features +1), with zero-th column appended\n",
    "        :param y: real binary class label, shape (batch_size)\n",
    "        :return: gradient of shape (num_features + 1,)\n",
    "        \"\"\"\n",
    "\n",
    "        # Workspace 2.2\n",
    "        # TO DO: Finish this function to compute the gradient\n",
    "        gradient = np.zeros((x.shape[1], ))\n",
    "        #BEGIN \n",
    "        sigmoids = self.sigmoid(x)\n",
    "        for i in range(x.shape[0]):\n",
    "            subtract = sigmoids[i] - y[i]\n",
    "            add_to_gradient = subtract * x[i,:]\n",
    "            gradient = gradient + add_to_gradient\n",
    "        gradient = gradient / x.shape[0]\n",
    "        #END\n",
    "        return gradient\n",
    "\n",
    "    def batch_update(self, batch_x, batch_y):\n",
    "        \"\"\"\n",
    "        Single self.w update using the batch.\n",
    "        :param batch_x: array of features (includes the constant feature at column 0), of shape (batch_size, num_features + 1)\n",
    "        :param batch_y: array of target values, shape (batch_size,)\n",
    "        :return: nothing\n",
    "        \"\"\"\n",
    "\n",
    "        # Workspace 2.3\n",
    "        #BEGIN \n",
    "        #print(\"we are going to update the weights\")\n",
    "        gradients = self.compute_gradient(batch_x, batch_y)\n",
    "    \n",
    "        lr = self.eta\n",
    "        w = self.w\n",
    "        #print(w)\n",
    "        new_w = w - (lr * gradients)\n",
    "        #print(\"weights\",  new_w)\n",
    "        #print(\"sum of weights\", np.sum(new_w))\n",
    "        \n",
    "        self.w = new_w\n",
    "\n",
    "        #END\n",
    "\n",
    "    def fit(self, X, y, epochs=1, batch_size=1, validation_X=None, validation_y=None):\n",
    "        \"\"\"\n",
    "        train the LogisticRegression\n",
    "        :param X: training features, shape (num_samples, num_features)\n",
    "        :param y: training labels, shape (num_samples,)\n",
    "        :param epochs: number of epochs, integer\n",
    "        :param batch_size: size of batch for gradient update, 1 for SGD\n",
    "        :param validation_X: validation rows, should default to training data if not provided\n",
    "        :param validation_y: validation labels\n",
    "        :return: recall score at the end of each epoch on validation data\n",
    "        \"\"\"\n",
    "\n",
    "        if validation_X is None:\n",
    "            validation_X, validation_y = X, y\n",
    "        metrics = []\n",
    "        # Workspace  2.4\n",
    "        # TO DO: Process X to append the zero-th constant column and call self.optimize\n",
    "        # TO DO: Compute average recall on the validation data at the end of each epoch\n",
    "        # HINT: make sure to initialize w\n",
    "        #BEGIN \n",
    "        #add the zero-th column to X and validation X\n",
    "        zeroth_col = np.ones((X.shape[0],1))\n",
    "        X = np.append(zeroth_col, X, 1)\n",
    "        #initialize weights\n",
    "        w = np.ones(X.shape[1])\n",
    "        w = w/(X.shape[1])\n",
    "        #print(np.sum(w))\n",
    "        self.w = w\n",
    "        for i in range(epochs):\n",
    "\n",
    "            self.optimize(X, y, batch_size)\n",
    "            weights = self.w\n",
    "            y_hat = self.predict(validation_X)\n",
    "            y_hat = (np.rint(y_hat)).astype(int)\n",
    "            recall = recall_score(validation_y, y_hat)\n",
    "\n",
    "            metrics.append(recall)\n",
    "\n",
    "        # code here\n",
    "        #END\n",
    "        return np.array(metrics)\n",
    "\n",
    "    def predict(self, X):\n",
    "        \"\"\"\n",
    "        :param X: features array, shape (num_samples, num_features) (without the constant column)\n",
    "        :return: predicted binary label, shape (num_samples,)\n",
    "        \"\"\"\n",
    "        # Workspace 2.5\n",
    "        y_hat = np.zeros((X.shape[0],))\n",
    "        X = np.concatenate([np.ones((X.shape[0], 1)), X], axis=1)  # We append zero-th column\n",
    "        #BEGIN \n",
    "        weights = self.w\n",
    "        y_hat = self.sigmoid(X)\n",
    "        y_hat = (np.rint(y_hat)).astype(int)\n",
    "    \n",
    "        #END\n",
    "        return y_hat\n",
    "\n",
    "    def optimize(self, X, y, batch_size):\n",
    "        \"\"\"\n",
    "        Perform one epoch batch gradient on shuffled data\n",
    "        :param X: np.array of shape (num_samples, num_features +1), The training data with zero-th column appended\n",
    "        :param y: target values of shape (num_samples,)\n",
    "        :param batch_size: batch_size of the batch_update\n",
    "        :return: None\n",
    "        \"\"\"\n",
    "        indices = np.random.permutation(len(X))\n",
    "        for i in range(0, X.shape[0], batch_size):\n",
    "            batch_x = X[indices[i:i + batch_size]]\n",
    "            batch_y = y[indices[i:i + batch_size]]\n",
    "            self.batch_update(batch_x, batch_y)"
   ]
  },
  {
   "cell_type": "code",
   "execution_count": 29,
   "metadata": {},
   "outputs": [
    {
     "data": {
      "text/plain": [
       "array([0.96353167, 0.97504798, 0.9731286 , 0.91554702, 0.95393474,\n",
       "       0.83877159, 0.99424184, 0.95777351, 0.99232246, 0.98848369,\n",
       "       0.99232246, 0.93666027, 0.84452975, 0.93666027, 0.86180422,\n",
       "       0.82149712, 0.99616123, 0.98848369, 0.89827255, 0.9059501 ,\n",
       "       0.98080614, 0.9865643 , 0.98848369, 0.96161228, 0.88099808,\n",
       "       0.96928983, 0.95393474, 0.99040307, 0.9731286 , 0.99808061,\n",
       "       0.98080614, 0.88483685, 0.84069098, 0.94817658, 0.93857965,\n",
       "       1.        , 0.99808061, 0.98464491, 0.99424184, 0.90978887,\n",
       "       0.98464491, 0.91554702, 0.86372361, 0.88675624, 0.79462572,\n",
       "       0.99616123, 1.        , 0.97888676, 0.89827255, 0.9462572 ])"
      ]
     },
     "execution_count": 29,
     "metadata": {},
     "output_type": "execute_result"
    }
   ],
   "source": [
    "log = LogisticRegression()\n",
    "log.fit(binary_digits.X_train, binary_digits.y_train, epochs=50, batch_size=1)\n"
   ]
  },
  {
   "cell_type": "markdown",
   "metadata": {
    "deletable": false,
    "editable": false,
    "nbgrader": {
     "cell_type": "markdown",
     "checksum": "5b966586e4d91d8169a392bbd579bc05",
     "grade": false,
     "grade_id": "q26",
     "locked": true,
     "schema_version": 3,
     "solution": false,
     "task": false
    }
   },
   "source": [
    "After completing the class above, loop over the training data and perform batch training with `batch_size=1`(Stochastic Gradient Descent) for 50 epochs, and different values of eta ( see `etas`). Train your model and do the following:\n",
    "\n",
    "- 2.6 **[5 points]** Plot the recall trend for the different values of eta on the training data (epoch vs recall). (reset random seed for each loop to mitigate the randomness effect)\n",
    "\n",
    "Use the values provided below"
   ]
  },
  {
   "cell_type": "code",
   "execution_count": 30,
   "metadata": {
    "deletable": false,
    "nbgrader": {
     "cell_type": "code",
     "checksum": "44a06f9b3d581c2badaea070909732bd",
     "grade": true,
     "grade_id": "a26",
     "locked": false,
     "points": 5,
     "schema_version": 3,
     "solution": true,
     "task": false
    },
    "pycharm": {
     "name": "#%%\n"
    }
   },
   "outputs": [
    {
     "data": {
      "image/png": "[encoded data removed]",
      "text/plain": [
       "<Figure size 720x576 with 1 Axes>"
      ]
     },
     "metadata": {
      "needs_background": "light"
     },
     "output_type": "display_data"
    }
   ],
   "source": [
    "etas = [.001, .01, 0.1, 1]\n",
    "\n",
    "for eta in etas:\n",
    "    np.random.seed(2022)  # Reset randomness\n",
    "    # Workspace 2.6\n",
    "    #BEGIN \n",
    "    log_1 = LogisticRegression(eta=eta)\n",
    "    recall_scores = log_1.fit(binary_digits.X_train, binary_digits.y_train, epochs=50, batch_size=1)\n",
    "    plt.plot(recall_scores)\n",
    "    #END\n",
    "plt.title(\"Effect of Learning Rate on Recall using Training Data\")\n",
    "plt.xlabel('Number of Epochs')\n",
    "plt.ylabel('Recall')\n",
    "plt.legend(etas)\n",
    "plt.show()"
   ]
  },
  {
   "cell_type": "markdown",
   "metadata": {
    "deletable": false,
    "editable": false,
    "nbgrader": {
     "cell_type": "markdown",
     "checksum": "81ea96b6a187d0092f518679285de42b",
     "grade": false,
     "grade_id": "q27",
     "locked": true,
     "schema_version": 3,
     "solution": false,
     "task": false
    }
   },
   "source": [
    "- 2.7 **[3 points]** Plot the recall trend for the different values of eta on the test data.\n",
    "(reset random seed for each loop to mitigate the randomness effect)"
   ]
  },
  {
   "cell_type": "code",
   "execution_count": 31,
   "metadata": {
    "deletable": false,
    "nbgrader": {
     "cell_type": "code",
     "checksum": "e1ea471ead529000013910a78764246a",
     "grade": true,
     "grade_id": "a27",
     "locked": false,
     "points": 3,
     "schema_version": 3,
     "solution": true,
     "task": false
    },
    "pycharm": {
     "name": "#%%\n"
    }
   },
   "outputs": [
    {
     "data": {
      "image/png": "[encoded data removed]",
      "text/plain": [
       "<Figure size 720x576 with 1 Axes>"
      ]
     },
     "metadata": {
      "needs_background": "light"
     },
     "output_type": "display_data"
    }
   ],
   "source": [
    "etas = [.0001, .001, .01, 1]\n",
    "\n",
    "for eta in etas:\n",
    "    np.random.seed(2022)\n",
    "    # Workspace 2.7\n",
    "    #BEGIN \n",
    "    log_2 = LogisticRegression(eta=eta)\n",
    "    recall_scores = log_2.fit(binary_digits.X_train, binary_digits.y_train, epochs=50, batch_size=1, validation_X=binary_digits.X_test, validation_y=binary_digits.y_test)\n",
    "    plt.plot(recall_scores)\n",
    "    #END\n",
    "plt.title(\"Effect of Learning Rate on Recall using Test Data\")\n",
    "plt.xlabel('Number of Epochs')\n",
    "plt.ylabel('Recall')\n",
    "plt.legend(etas)\n",
    "plt.show()"
   ]
  },
  {
   "cell_type": "markdown",
   "metadata": {
    "deletable": false,
    "editable": false,
    "nbgrader": {
     "cell_type": "markdown",
     "checksum": "2a1226541d770401670fbd26ee0c1892",
     "grade": false,
     "grade_id": "q28",
     "locked": true,
     "schema_version": 3,
     "solution": false,
     "task": false
    }
   },
   "source": [
    "This time we want to analyze the effect of varying the batch size. We fix `eta=0.01` and `epochs=50` and we want to\n",
    "examine the recall on the test set at the end of the training.\n",
    "\n",
    "- 2.8 **[4 points]** Produce a plot of the recall on the test data at the end of the training as a function of the batch size. Reset the random generator for each iteration.\n",
    "\n",
    "Use batch sizes provided below"
   ]
  },
  {
   "cell_type": "code",
   "execution_count": 33,
   "metadata": {
    "deletable": false,
    "nbgrader": {
     "cell_type": "code",
     "checksum": "591e3a4fcdfda30e94bc59fb554e2159",
     "grade": true,
     "grade_id": "a28",
     "locked": false,
     "points": 4,
     "schema_version": 3,
     "solution": true,
     "task": false
    },
    "pycharm": {
     "name": "#%%\n"
    }
   },
   "outputs": [
    {
     "data": {
      "image/png": "[encoded data removed]",
      "text/plain": [
       "<Figure size 720x576 with 1 Axes>"
      ]
     },
     "metadata": {
      "needs_background": "light"
     },
     "output_type": "display_data"
    }
   ],
   "source": [
    "batch_sizes = list(range(1, 40))\n",
    "recalls = []\n",
    "\n",
    "for b_size in batch_sizes:\n",
    "    np.random.seed(2022)\n",
    "    # Workspace 2.8\n",
    "    #BEGIN \n",
    "    log_3 = LogisticRegression(eta=0.01)\n",
    "    recall_scores = log_3.fit(binary_digits.X_train, binary_digits.y_train, epochs=50, batch_size=b_size, validation_X=binary_digits.X_test, validation_y=binary_digits.y_test)\n",
    "    last_recall = recall_scores[-1]\n",
    "    recalls.append(last_recall)\n",
    "    # code here\n",
    "    #END\n",
    "recalls = np.array(recalls)\n",
    "plt.plot(recalls)\n",
    "plt.title(\"Effect of Batch Size on Recall using Test Data\")\n",
    "plt.xlabel('Batch Size')\n",
    "plt.ylabel('Recall')\n",
    "plt.show()"
   ]
  },
  {
   "cell_type": "markdown",
   "metadata": {
    "deletable": false,
    "editable": false,
    "nbgrader": {
     "cell_type": "markdown",
     "checksum": "43f43647e5ecd1ec7b57d98ba19b9529",
     "grade": false,
     "grade_id": "q29",
     "locked": true,
     "schema_version": 3,
     "solution": false,
     "task": false
    }
   },
   "source": [
    "2.9 **[3 points]** How does the learning rate (eta) and the number of epochs affect the performance of the classifier."
   ]
  },
  {
   "cell_type": "markdown",
   "metadata": {
    "deletable": false,
    "nbgrader": {
     "cell_type": "markdown",
     "checksum": "0792329373f012c1f7c952dd938b67b6",
     "grade": true,
     "grade_id": "a29",
     "locked": false,
     "points": 3,
     "schema_version": 3,
     "solution": true,
     "task": false
    }
   },
   "source": [
    "#### Workspace 2.9\n",
    "\n",
    "%BEGIN\n",
    "\n",
    "% A lower learning rate generally results in smaller adjustments being made to the weights and requires more epochs to reach its desired accuracy. Since a sigmoid activation function is being used and binary data is being analyzed, the higher learning rate shows smaller fluctiations in the recall values at the lower epoch ranges. This would be due to the nature of the sigmoid function. In this case, the fluctuations in the recall values should not be directly correlated with the fluctuations in the weights. Smaller fluctuations should show that the model is performing well in the given epoch range because it is converging.\n",
    "\n",
    "When looking at the red line in the training graph, which representes a large learning rate of 1, the line appears to perform well at the lower epoch ranges. It shows little fluctuation and has a relatively high recall. However, the improvement that this line shows with more epochs does not seem to be significant. This can also be seen in the test graph. Additionally, the line with a learning rate of 0.1 is covered by the line with a learning rate of 1 in the training graph. This shows that when the learning rate is over a certain threshold, the model can no longer converge well.\n",
    "\n",
    "The smaller learning rates do not seem to perform well at the lower epoch ranges. The recall fluctuates a lot. However, these learning rates perform much better at the higher epoch ranges. They tend to fluctuate less and in the training data, the smaller learning rates appear to yield a higher recall score and fit the training data better. The improvement in performance over the number of epochs is more evident with the smaller learning rates. \n",
    "\n",
    "%END"
   ]
  },
  {
   "cell_type": "markdown",
   "metadata": {
    "deletable": false,
    "editable": false,
    "nbgrader": {
     "cell_type": "markdown",
     "checksum": "9fb2f573735bec6ae5c54a6f2382dc94",
     "grade": false,
     "grade_id": "q210",
     "locked": true,
     "schema_version": 3,
     "solution": false,
     "task": false
    },
    "pycharm": {
     "name": "#%% md\n"
    }
   },
   "source": [
    "2.10 (**Bonus**) **[4 points]** Since we're done with the binary regression, we will try to add Ridge regularization:\n",
    "\\begin{align}\n",
    "\\textrm{NLL}(\\mathbf{w}) = -\\frac{1}{N}\\sum_{i=1}^N \\left[y_i \\log \\sigma(\\mathbf{w}^T{\\mathbf{x}_i}) + (1-y_i)\\log(1 - \\sigma(\\mathbf{w}^T\\mathbf{x}_i))\\right] + \\alpha {||\\mathbf{w}||^2}_{\\geq1}\n",
    "\\end{align}\n",
    "\n",
    "This is exactly what we will be using the `alpha` parameter in `LogisticRegression` for.\n",
    "First, write the gradient formula in the cell below and edit your `compute_gradient` to account for the regularization term. Note that the regularization $||\\mathbf{w}||^2$ does not apply to the intercept $\\mathbf{w}_0$"
   ]
  },
  {
   "cell_type": "markdown",
   "metadata": {
    "deletable": false,
    "nbgrader": {
     "cell_type": "markdown",
     "checksum": "c714d2e2a69be974365824a9558760bd",
     "grade": true,
     "grade_id": "a210",
     "locked": false,
     "points": 0,
     "schema_version": 3,
     "solution": true,
     "task": false
    }
   },
   "source": [
    "#### Workspace 2.10\n",
    "\n",
    "%BEGIN\n",
    "\n",
    "% YOUR ANSWER HERE\n",
    "\n",
    "%END\n",
    "\n"
   ]
  },
  {
   "cell_type": "markdown",
   "metadata": {
    "deletable": false,
    "editable": false,
    "nbgrader": {
     "cell_type": "markdown",
     "checksum": "67c9dc01cb019a680f2d971dbc5da8c5",
     "grade": false,
     "grade_id": "cell-2b53d5d40987324e",
     "locked": true,
     "schema_version": 3,
     "solution": false,
     "task": false
    }
   },
   "source": [
    "## Problem 3: Logistic Regression for Multiclass Classification (24)\n",
    "\n",
    "You will now create a classifier that is commonly referred to as _One Versus All_ Logistic Regression,\n",
    "where a binary classifier will be trained to identify a single class. The prediction is performed by assigning the label\n",
    "of the classifier that is most confident in its prediction (the highest score/sigmoid value).\n",
    "\n",
    "The dataset will be the same one we use in Problem Set 1's KNNClassifier"
   ]
  },
  {
   "cell_type": "code",
   "execution_count": 34,
   "metadata": {
    "deletable": false,
    "editable": false,
    "nbgrader": {
     "cell_type": "code",
     "checksum": "303f1aecde55d7dc0f46626cc6887659",
     "grade": false,
     "grade_id": "digits",
     "locked": true,
     "schema_version": 3,
     "solution": false,
     "task": false
    },
    "pycharm": {
     "name": "#%%\n"
    }
   },
   "outputs": [],
   "source": [
    "from sklearn.preprocessing import StandardScaler\n",
    "digits = data.Digits()\n",
    "scaler = StandardScaler()\n",
    "digits.X_train = scaler.fit_transform(digits.X_train)\n",
    "digits.X_test = scaler.transform(digits.X_test)"
   ]
  },
  {
   "cell_type": "markdown",
   "metadata": {
    "deletable": false,
    "editable": false,
    "nbgrader": {
     "cell_type": "markdown",
     "checksum": "1fa990a93b4df2da524da310c7facadf",
     "grade": false,
     "grade_id": "q31_32",
     "locked": true,
     "schema_version": 3,
     "solution": false,
     "task": false
    },
    "pycharm": {
     "name": "#%% md\n"
    }
   },
   "source": [
    "- 3.1 **[3 points]** Complete `one_hot_encoding` to transform your integer labels into a set of binary features via one-hot encoding.\n",
    "You can assume that it's called after `label_to_index` and `index_to_label` have been defined.\n",
    "\n",
    "\n",
    "- 3.2 **[2 points]** Complete `normalize_data` to normalize your features. You can use `StandardScaler`\n",
    "- 3.3 **[4 points]** Complete `predict` method to return the predicted label using the scores from each class classifier.\n",
    "You might be tempted to call `LogisticRegression.predict`, but you need the sigmoid values to determine the most likely label (and hence have to add the zero-th column in OneVersusAll).\n",
    "\n",
    "- 3.4 **[2 points]** Complete `evaluate` to return the weighted average recall (WAR) on the validation data (use `recall_score`)\n",
    "- 3.5 **[6 points]** Complete `fit` function to fit all classifiers with their corresponding labels and compute the WAR at the end of each epoch\n",
    "\n",
    "Reminder: make no assumption about the number of features/classes in the data."
   ]
  },
  {
   "cell_type": "code",
   "execution_count": 35,
   "metadata": {
    "deletable": false,
    "nbgrader": {
     "cell_type": "code",
     "checksum": "bc67e8cd7de1323ccab8f6a298779b82",
     "grade": true,
     "grade_id": "a31_32",
     "locked": false,
     "points": 17,
     "schema_version": 3,
     "solution": true,
     "task": false
    },
    "pycharm": {
     "name": "#%%\n"
    }
   },
   "outputs": [],
   "source": [
    "class OneVersusAll(object):\n",
    "\n",
    "    def __init__(self, eta=0.1, alpha=0):\n",
    "        self.eta = eta  # Learning Rate\n",
    "        self.classifiers = []  # Array of LogisticRegression classifiers\n",
    "        self.alpha = alpha  # regularization / penalty rate (USED IN BONUS)\n",
    "        self.scaler = StandardScaler()\n",
    "        self.fitted = False  # Flag to store whether the model is already fitted to avoid fitting scaler more than once\n",
    "\n",
    "    def one_hot_encoding(self, y):\n",
    "        \"\"\"\n",
    "        Create one-hot encoding of y\n",
    "        :param y: shape (num_samples,)\n",
    "        :return: one hot encoding (num_samples, C) where C is the number of classes in the training labels\n",
    "        \"\"\"\n",
    "        one_hot_encode = np.zeros((y.shape[0], len(self.label_to_index)), dtype=int)\n",
    "        # Workspace 3.1\n",
    "        # TO DO: Represent the output vector y as a one hot encoding. Create a matrix M of dimensions (n X C)\n",
    "        # where n = number of samples, and C for number of classes\n",
    "        # If y[i] = class j, then M[i] is equal to 1 at position j and 0 elsewhere\n",
    "        #BEGIN \n",
    "        classes = np.unique(y)\n",
    "        num_classes = len(classes)\n",
    "        label_to_index = self.label_to_index\n",
    "        for i in range(y.shape[0]):\n",
    "            search_key = y[i]\n",
    "            index_search_key = list(label_to_index.keys()).index(search_key)\n",
    "            values = (list(label_to_index.values()))\n",
    "            index_add = values[index_search_key]\n",
    "            one_hot_encode[i, index_add] = 1\n",
    "        # code here\n",
    "        #END\n",
    "        return one_hot_encode\n",
    "\n",
    "    def normalize_data(self, X):\n",
    "        \"\"\"\n",
    "        Fit scaler if it hasn't been done yet and normalize X\n",
    "        :param X: Raw features, shape (num_samples, num_features)\n",
    "        :return: Normalized features,  shape (num_samples, num_features)\n",
    "        \"\"\"\n",
    "        # Workspace 3.2\n",
    "        # TO DO: Normalize the feature values of dataset X, you have to keep track of the mean and variance\n",
    "        #BEGIN \n",
    "        scaler = self.scaler\n",
    "        model = scaler.fit(X)\n",
    "        X = model.transform(X)\n",
    "        # code here\n",
    "        #END\n",
    "        return X\n",
    "\n",
    "    def predict(self, X):\n",
    "        \"\"\"\n",
    "        The usual predict method\n",
    "        \"\"\"\n",
    "        # Workspace 3.3\n",
    "        # TO DO: Normalize X, process it and return the predicted label using the scores from classifiers\n",
    "        #BEGIN \n",
    "        #normalize X\n",
    "        predict = []\n",
    "        X = self.normalize_data(X)\n",
    "        for i in range(len(self.classifiers)):\n",
    "            log = self.classifiers[i]\n",
    "            y_hat = log.predict(X)\n",
    "            #print(\"classifier\", i)\n",
    "            #print(y_hat.shape)\n",
    "            predict.append(y_hat)\n",
    "        \n",
    "        \n",
    "        \n",
    "        # code here\n",
    "        #END\n",
    "        return predict\n",
    "\n",
    "    def evaluate(self, test_x, test_y):\n",
    "        # Workspace 3.4\n",
    "        #BEGIN \n",
    "        y = self.one_hot_encoding(test_y)\n",
    "        predicted_list = self.predict(test_x)\n",
    "        recall_list = []\n",
    "        for i in range(len(predicted_list)):\n",
    "            y_pred = predicted_list[i]\n",
    "            y_test = y[:,i]\n",
    "            recall = recall_score(y_test, y_pred)\n",
    "            recall_list.append(recall)\n",
    "        recall_list = np.array(recall_list)\n",
    "        evaluate = np.mean(recall_list)\n",
    "        #END\n",
    "        return evaluate\n",
    "\n",
    "    def fit(self, X, y, batch_size=1, epochs=10, validation_X=None, validation_y=None):\n",
    "        \"\"\"\n",
    "        Similar to LogisticRegression, but for multiclass case\n",
    "        :return: metrics, containing WAR score at the end of each epoch on the validation data\n",
    "        \"\"\"\n",
    "        self.label_to_index = dict(zip(np.unique(y), range(len(np.unique(y)))))\n",
    "        self.index_to_label = {v: k for k, v in self.label_to_index.items()}\n",
    "        \n",
    "        metrics = []\n",
    "        if validation_X is None:\n",
    "            validation_X, validation_y = X, y\n",
    "        # Workspace 3.5\n",
    "        # TO DO: Compute Weighted Average Recall at the end of each epoch\n",
    "        # TO DO: Process training data and use it to fit self.classifiers and compute the metrics every epoch\n",
    "        #BEGIN\n",
    "        #add zero-th column to X\n",
    "        zeroth_col = np.ones((X.shape[0],1))\n",
    "        X = np.append(zeroth_col, X, 1)\n",
    "        #one hot encode y\n",
    "        y = self.one_hot_encoding(y)\n",
    "        #normalize X\n",
    "        X = self.normalize_data(X)\n",
    "        #create classifiers\n",
    "        for i in range(y.shape[1]):\n",
    "            log = LogisticRegression(eta=eta)\n",
    "            self.classifiers.append(log)\n",
    "        #initialize weights each classifier\n",
    "        for i in range(len(self.classifiers)):\n",
    "            log = self.classifiers[i]\n",
    "            w = np.ones(X.shape[1])\n",
    "            w = w/(X.shape[1])\n",
    "            log.w = w\n",
    "        #for one epoch\n",
    "        for i in range(epochs):\n",
    "            #iterate through classifiers & update weights w/ respective one-hot-encoded y column\n",
    "            for j in range(len(self.classifiers)):\n",
    "                y_col = y[:,j]\n",
    "                log = self.classifiers[j]\n",
    "                log.optimize(X, y_col, batch_size)\n",
    "            WAR = self.evaluate(validation_X, validation_y)\n",
    "            metrics.append(WAR)\n",
    "        metrics = np.array(metrics)\n",
    "\n",
    "            \n",
    "\n",
    "        #print(one)\n",
    "        #END\n",
    "        return metrics\n",
    "\n"
   ]
  },
  {
   "cell_type": "code",
   "execution_count": 36,
   "metadata": {},
   "outputs": [
    {
     "data": {
      "text/plain": [
       "array([0.93688256, 0.95285685, 0.96682712, 0.97446282, 0.96178105,\n",
       "       0.98033073, 0.96845406, 0.98229165, 0.97259083, 0.97382564])"
      ]
     },
     "execution_count": 36,
     "metadata": {},
     "output_type": "execute_result"
    }
   ],
   "source": [
    "OneVsAll = OneVersusAll()\n",
    "OneVsAll.fit(digits.X_train, digits.y_train)\n",
    "\n"
   ]
  },
  {
   "cell_type": "markdown",
   "metadata": {
    "deletable": false,
    "editable": false,
    "nbgrader": {
     "cell_type": "markdown",
     "checksum": "cd3a3693333028fa76f5d2df5e6b638d",
     "grade": false,
     "grade_id": "q36",
     "locked": true,
     "schema_version": 3,
     "solution": false,
     "task": false
    },
    "pycharm": {
     "name": "#%% md\n"
    }
   },
   "source": [
    "- 3.6 **[4 points]** Train `OneVersusAll` for 100 epochs using eta=0.1 and batch_size = 64. In the same figure, plot:\n",
    "    - The WAR metric on the digits training data at the end of each epoch\n",
    "    - The WAR metric on the digits test data at the end of each epoch\n",
    "You should also print the best score on each if the partitions.\n",
    "You might need to adapt LogisticRegression so that fit method can be called multiple times without losing the weights from previous epoch.\n",
    "\n",
    "For a fair comparison, call `np.random.seed(42)` before each `fit` to reset the random generator."
   ]
  },
  {
   "cell_type": "code",
   "execution_count": 37,
   "metadata": {
    "deletable": false,
    "nbgrader": {
     "cell_type": "code",
     "checksum": "40fb5965a3d38e191d3e38e3ca640c2c",
     "grade": true,
     "grade_id": "a36",
     "locked": false,
     "points": 4,
     "schema_version": 3,
     "solution": true,
     "task": false
    },
    "pycharm": {
     "name": "#%%\n"
    }
   },
   "outputs": [
    {
     "name": "stdout",
     "output_type": "stream",
     "text": [
      "The highest WAR on the training data is: 0.9973598282288123\n",
      "This value was obtained after this number of epochs: 11\n",
      "The highest WAR on the test data is: 0.9973598282288123\n",
      "This value was obtained after this number of epochs: 2\n"
     ]
    },
    {
     "data": {
      "image/png": "[encoded data removed]",
      "text/plain": [
       "<Figure size 720x576 with 1 Axes>"
      ]
     },
     "metadata": {
      "needs_background": "light"
     },
     "output_type": "display_data"
    }
   ],
   "source": [
    "epochs = 100\n",
    "eta = 0.1\n",
    "batch_size = 64\n",
    "# Workspace 3.6\n",
    "#BEGIN \n",
    "OneVsAll_train = OneVersusAll(eta = eta)\n",
    "np.random.seed(42)\n",
    "train_WARs = OneVsAll_train.fit(digits.X_train, digits.y_train, batch_size=batch_size, epochs=epochs, validation_X=digits.X_train, validation_y=digits.y_train)\n",
    "OneVsAll_test = OneVersusAll(eta = eta)\n",
    "np.random.seed(42)\n",
    "test_WARs = OneVsAll_test.fit(digits.X_train, digits.y_train, batch_size=batch_size, epochs=epochs, validation_X=digits.X_test, validation_y=digits.y_test)\n",
    "train_ind = np.argmax(train_WARs)\n",
    "test_ind = np.argmax(test_WARs)\n",
    "print(\"The highest WAR on the training data is:\" , train_WARs[train_ind])\n",
    "print(\"This value was obtained after this number of epochs:\" , train_ind+1)\n",
    "print(\"The highest WAR on the test data is:\" , train_WARs[train_ind])\n",
    "print(\"This value was obtained after this number of epochs:\" , test_ind+1)\n",
    "x_values = np.arange(1,101)\n",
    "plt.plot(x_values, train_WARs, label = \"training WAR values\")\n",
    "plt.plot(x_values, test_WARs, label = \"test WAR values\")\n",
    "plt.title(\"Training & Test WAR values with respect to number of epochs in OVR logistic regression\")\n",
    "plt.xlabel(\"Number of Epochs\")\n",
    "plt.ylabel(\"WAR values\")\n",
    "plt.legend()\n",
    "plt.show()\n",
    "\n",
    "#END"
   ]
  },
  {
   "cell_type": "markdown",
   "metadata": {
    "deletable": false,
    "editable": false,
    "nbgrader": {
     "cell_type": "markdown",
     "checksum": "1a78fad40c4dce28db009c65ef7fa01b",
     "grade": false,
     "grade_id": "q37",
     "locked": true,
     "schema_version": 3,
     "solution": false,
     "task": false
    },
    "pycharm": {
     "name": "#%% md\n"
    }
   },
   "source": [
    "- 3.7 **[3 points]** Does the WAR improve as we train for more epochs on the two data partitions (train, test)? Why? How does it compare to KNNClassifier? How do you explain the difference?"
   ]
  },
  {
   "cell_type": "markdown",
   "metadata": {
    "deletable": false,
    "nbgrader": {
     "cell_type": "markdown",
     "checksum": "98d60925a54a8c60fb20b065886b8f85",
     "grade": true,
     "grade_id": "a37",
     "locked": false,
     "points": 3,
     "schema_version": 3,
     "solution": true,
     "task": false
    },
    "pycharm": {
     "name": "#%%\n"
    }
   },
   "source": [
    "% Workspace 3.7\n",
    "\n",
    "%BEGIN\n",
    "\n",
    "% On the training data, the WAR seems to show improvement up until the maximum value is reached after the 11th epoch. After this, the WAR does not seem to consistently improve or get worse. It simply fluctuates around a value. This means that the training has converged after the 11th epoch and additional epochs are unneccesary with the given learning rate.\n",
    "% On the test data, the WAR improves up until the 2nd epoch. After the 2nd epoch, the WAR decreases. This is due to overfitting. As the classifier fits the training data too closely with more epochs, it does not work as well with unseen data. With the given parameters, only 2 epochs are necessary to optimize the WAR on unseen data.\n",
    "\n",
    "%This biggest difference that I observed between the multi-class logistic regression classifier and the KNN classifier is that logistic regression can give extremely accurate confidence readings on the training data. However, in this case, it is not necessary to fit the training data extremely well because of overfitting. KNN is much easier to train because it does not have to be fitted to large datasets. Logistic regression has many parameters that can be tuned. KNN has a limited number of parameters and optimization often depends more on regularization.\n",
    "\n",
    "%END"
   ]
  },
  {
   "cell_type": "markdown",
   "metadata": {
    "deletable": false,
    "editable": false,
    "nbgrader": {
     "cell_type": "markdown",
     "checksum": "d2aae0ab222bcd47033ed6adebee0df7",
     "grade": false,
     "grade_id": "q38",
     "locked": true,
     "schema_version": 3,
     "solution": false,
     "task": false
    }
   },
   "source": [
    "- 3.8 **(Bonus)** **[3 points]** Repeat 3.6 and 3.7 using Ridge regularization for the LogisticRegression classifiers with alpha=0.01. How does the regularization affect the performance on train VS test sets?\n",
    "\n",
    "You have to answer 2.10 before you attempt this question."
   ]
  },
  {
   "cell_type": "code",
   "execution_count": 38,
   "metadata": {
    "deletable": false,
    "nbgrader": {
     "cell_type": "code",
     "checksum": "009492acfacf8cbc85eddfce91dd73ae",
     "grade": true,
     "grade_id": "a38",
     "locked": false,
     "points": 0,
     "schema_version": 3,
     "solution": true,
     "task": false
    },
    "pycharm": {
     "name": "#%%\n"
    }
   },
   "outputs": [],
   "source": [
    "epochs = 100\n",
    "eta = 0.1\n",
    "batch_size = 64\n",
    "alpha = 1e-2\n",
    "# Workspace 3.8 (code)\n",
    "#BEGIN \n",
    "# code here\n",
    "#END"
   ]
  },
  {
   "cell_type": "markdown",
   "metadata": {
    "deletable": false,
    "nbgrader": {
     "cell_type": "markdown",
     "checksum": "7b3622c38cddf15acd78e79c344bd300",
     "grade": true,
     "grade_id": "a38b",
     "locked": false,
     "points": 0,
     "schema_version": 3,
     "solution": true,
     "task": false
    }
   },
   "source": [
    "#### Workspace 3.8 (write up)\n",
    "\n",
    "%BEGIN\n",
    "\n",
    "% YOUR ANSWER HERE\n",
    "\n",
    "%END"
   ]
  },
  {
   "cell_type": "markdown",
   "metadata": {
    "deletable": false,
    "editable": false,
    "nbgrader": {
     "cell_type": "markdown",
     "checksum": "a480252677e8fdd3a4579ddfc0590f54",
     "grade": false,
     "grade_id": "P4",
     "locked": true,
     "schema_version": 3,
     "solution": false,
     "task": false
    }
   },
   "source": [
    "## Problem 4: Feature Engineering (18 points)\n",
    "So far in all previous problems, we didn't have to worry about creating the features, that is our `X`. We always relied on having it handed to us.\n",
    "In practical machine learning problems, however, you will have to do some feature engineering yourself in order to get the features matrix `X` before feeding it to the classifier.\n",
    "\n",
    "For this problem you will work on extracting features from raw data. You will then use scikit-learn [`SGDClassifier`](https://scikit-learn.org/stable/modules/generated/sklearn.linear_model.SGDClassifier.html) to complete the classification task.\n",
    "\n",
    "We will start by importing some libraries and loading our data which contains 2,000 reviews from IMDB along with their sentiment, either positive (`1`) or negative (`0`).\n"
   ]
  },
  {
   "cell_type": "code",
   "execution_count": 39,
   "metadata": {},
   "outputs": [
    {
     "name": "stderr",
     "output_type": "stream",
     "text": [
      "[nltk_data] Downloading package punkt to /Users/reidglaze/nltk_data...\n",
      "[nltk_data]   Package punkt is already up-to-date!\n"
     ]
    },
    {
     "data": {
      "text/plain": [
       "True"
      ]
     },
     "execution_count": 39,
     "metadata": {},
     "output_type": "execute_result"
    }
   ],
   "source": [
    "import nltk\n",
    "from nltk.tokenize import word_tokenize\n",
    "from sklearn.feature_extraction.text import CountVectorizer, TfidfVectorizer\n",
    "from sklearn.linear_model import SGDClassifier\n",
    "from sklearn.base import BaseEstimator, TransformerMixin\n",
    "from sklearn.pipeline import FeatureUnion, Pipeline\n",
    "from sklearn.metrics import accuracy_score\n",
    "from sklearn.preprocessing import StandardScaler\n",
    "\n",
    "nltk.download('punkt')"
   ]
  },
  {
   "cell_type": "code",
   "execution_count": 41,
   "metadata": {},
   "outputs": [
    {
     "name": "stdout",
     "output_type": "stream",
     "text": [
      "[Example: underrated movies are a common reoccurrence in show business today . 1998's 'hope floats' was extremely underrated and was one of the best movies of the year], label:1\n"
     ]
    }
   ],
   "source": [
    "imdb = data.IMDB()\n",
    "print(f\"[Example: {imdb.X_train[1][:157]}], label:{imdb.y_train[1]}\")"
   ]
  },
  {
   "attachments": {
    "Pipeline.png": {
     "image/png": "[encoded data removed]"
    },
    "Union.png": {
     "image/png": "[encoded data removed]"
    }
   },
   "cell_type": "markdown",
   "metadata": {},
   "source": [
    "Let's call _Featurizer_ any class that is implemented like `StandardScaler` and our initial `MinMaxScaler`. It has:\n",
    "- a `fit` method that computes any necessary statistics based on our training data (like mean, min or max)\n",
    "- a `transform` method that generates new features based on given input and the pre-computed statistics\n",
    "- a `fit_transform` method that combines the two previous methods\n",
    "\n",
    "We can also combine multiple _Featurizers_ either in a series using [`Pipeline`](https://scikit-learn.org/stable/modules/generated/sklearn.pipeline.Pipeline.html):\n",
    "![Pipeline.png](attachment:Pipeline.png)\n",
    "\n",
    "Or in parallel using [`FeatureUnion`](https://scikit-learn.org/stable/modules/generated/sklearn.pipeline.FeatureUnion.html)\n",
    "![Union.png](attachment:Union.png)\n",
    "\n",
    "`Pipeline` and `FeatureUnion` are also _Featurizers_.\n",
    "\n",
    "Both `Pipeline` and `FeatureUnion` take a list of tuples formated as `(features_name: str, featurizer_instance: object)`."
   ]
  },
  {
   "cell_type": "markdown",
   "metadata": {
    "deletable": false,
    "editable": false,
    "nbgrader": {
     "cell_type": "markdown",
     "checksum": "6959d629e661cdbbaa7346a21602d58c",
     "grade": false,
     "grade_id": "q41",
     "locked": true,
     "schema_version": 3,
     "solution": false,
     "task": false
    }
   },
   "source": [
    "Let's start by extracting some simple features such as the number of sentences in each review.\n",
    "To do that, we will create a custom scikit-learn feature transformer which will take data as input and returns a feature vector as output.\n",
    "\n",
    "The feature transformer class has a constructor, a `fit` method. The constructor can be used to store any words or other data that we might need during the feature extraction process.\n",
    "Feature transformers usually don't need to be fitted, so we will leave that as it is. Most of the work will be done inside the `transform` function.\n",
    "\n",
    "- 4.1 **[3 points]** Complete the `SentenceCounter` class to extract the number of sentences in each review. \n",
    "- 4.2 **[3 points]** Complete the `PunctCounter` class to count the number of \"!\" and \"?\" in each review\n"
   ]
  },
  {
   "cell_type": "code",
   "execution_count": 42,
   "metadata": {
    "deletable": false,
    "nbgrader": {
     "cell_type": "code",
     "checksum": "e5175aa8874a97ceb9af162cb681490e",
     "grade": true,
     "grade_id": "a41",
     "locked": false,
     "points": 6,
     "schema_version": 3,
     "solution": true,
     "task": false
    }
   },
   "outputs": [],
   "source": [
    "class SentenceCounter(BaseEstimator, TransformerMixin):\n",
    "    \"\"\"\n",
    "    A custom feature transformer to extract the number of sentences\n",
    "    \"\"\"\n",
    "    def fit(self, data):\n",
    "        return self\n",
    "\n",
    "    def transform(self, data):\n",
    "        \"\"\"\n",
    "        :param data: raw data, of length (num_samples,), where each element is a string \n",
    "        :return: features array of shape (num_samples, 1)\n",
    "        \"\"\"\n",
    "        features = np.zeros((len(data), 1))\n",
    "        # Workspace 3.1\n",
    "        # TODO: Transform reviews into the feature (number of sentences)  \n",
    "        #BEGIN \n",
    "        for i in range(len(data)):\n",
    "            sentences = nltk.sent_tokenize(data[i])\n",
    "            length = len(sentences)\n",
    "            features[i] = length\n",
    "\n",
    "        #END\n",
    "        return features\n",
    "\n",
    "\n",
    "class PunctCounter(SentenceCounter):\n",
    "    \"\"\"\n",
    "    A custom feature transformer to extract the number of \"!\" and \"?\"\n",
    "    \"\"\"\n",
    "\n",
    "    def transform(self, data):\n",
    "        \"\"\"\n",
    "        :param data: raw data, of length (num_samples,), where each element is a string \n",
    "        :return: features array of shape (num_samples, 1)\n",
    "        \"\"\"\n",
    "        features = np.zeros((len(data), 1))\n",
    "        # Workspace 3.2\n",
    "        # TODO: Transform reviews into the feature (number of \"!\" and \"?\")  \n",
    "        #BEGIN \n",
    "        for i in range(len(data)):\n",
    "            string = data[i]\n",
    "            for j in range(len(string)):\n",
    "                if string[j] in (\"!\", \"?\"):\n",
    "                    features[i] = features[i] + 1\n",
    "        # code here\n",
    "        #END\n",
    "        return features"
   ]
  },
  {
   "cell_type": "markdown",
   "metadata": {},
   "source": [
    "The `featurizer` instance below combines `FeatureUnion` and `Pipeline` operations. First, we extract the number of punctuations, then normalize the two features.\n"
   ]
  },
  {
   "cell_type": "code",
   "execution_count": 43,
   "metadata": {},
   "outputs": [
    {
     "name": "stdout",
     "output_type": "stream",
     "text": [
      "means:[-5.94762335e-17  2.52179230e-17], Standard deviations:[1. 1.]\n",
      "(1400, 2) (600, 2)\n"
     ]
    }
   ],
   "source": [
    "featurizer = Pipeline([(\"counts\", FeatureUnion([('sentences_count', SentenceCounter()),\n",
    "                                                ('punct_count', PunctCounter())])),\n",
    "                       (\"normalizer\", StandardScaler())])\n",
    "X_train = featurizer.fit_transform(imdb.X_train)\n",
    "X_test = featurizer.transform(imdb.X_test)\n",
    "print(f\"means:{np.mean(X_train,axis=0)}, Standard deviations:{np.std(X_train, axis=0)}\")\n",
    "print(X_train.shape, X_test.shape)"
   ]
  },
  {
   "cell_type": "markdown",
   "metadata": {},
   "source": [
    "Let's see how well this simple feature would help us distinguish positive reviews from negative ones. "
   ]
  },
  {
   "cell_type": "code",
   "execution_count": 44,
   "metadata": {
    "pycharm": {
     "name": "#%%\n"
    }
   },
   "outputs": [
    {
     "name": "stdout",
     "output_type": "stream",
     "text": [
      "Accuracy on testing set:  0.5383333333333333\n"
     ]
    }
   ],
   "source": [
    "# Train the classifier and find the accuracy on the test dataset\n",
    "lr = SGDClassifier(loss='log', penalty='l2', alpha=0.001, max_iter=2000, shuffle=True, verbose=0, random_state=42)\n",
    "lr.fit(X_train, imdb.y_train)\n",
    "y_pred = lr.predict(X_test)\n",
    "accuracy = accuracy_score(y_pred, imdb.y_test)\n",
    "print(\"Accuracy on testing set: \", accuracy)"
   ]
  },
  {
   "cell_type": "markdown",
   "metadata": {},
   "source": [
    "Not that helpful!"
   ]
  },
  {
   "cell_type": "markdown",
   "metadata": {
    "deletable": false,
    "editable": false,
    "nbgrader": {
     "cell_type": "markdown",
     "checksum": "78850abfab8723fca912d015faf934cf",
     "grade": false,
     "grade_id": "q43",
     "locked": true,
     "schema_version": 3,
     "solution": false,
     "task": false
    }
   },
   "source": [
    "Well, that was expected! let's create more transformers to extract more valuable features.  \n",
    "\n",
    "- 4.3 **[3 points]** Complete the `NegativeCounter` feature transformer to extract the number of negative words (vocabulary is provided) \n",
    "\n",
    "- 4.4 **[3 points]** Complete the `PositiveCounter` feature transformer to extract the number of positive words (vocabulary is provided)\n",
    "\n",
    "HINT: Before you match the vocabulary words to the review text, use [`word_tokenize`](https://www.nltk.org/api/nltk.tokenize.html) from `nltk` to convert reviews into tokens. "
   ]
  },
  {
   "cell_type": "code",
   "execution_count": 45,
   "metadata": {
    "deletable": false,
    "nbgrader": {
     "cell_type": "code",
     "checksum": "2e0b55e99f4ad85c38ed1bf0f074cdd6",
     "grade": true,
     "grade_id": "a43",
     "locked": false,
     "points": 6,
     "schema_version": 3,
     "solution": true,
     "task": false
    }
   },
   "outputs": [],
   "source": [
    "class NegativeCounter(SentenceCounter):\n",
    "    \"\"\"\n",
    "    A custom feature transformer to extract the feature \"number of negative words\" \n",
    "    \"\"\"\n",
    "\n",
    "    def __init__(self):\n",
    "        self.neg_words = [\"second-rate\", \"violent\", \"moronic\", \"third-rate\", \"flawed\", \"juvenile\", \"boring\",\n",
    "                          \"distasteful\", \"ordinary\", \"disgusting\", \"senseless\", \"static\", \"brutal\", \"confused\",\n",
    "                          \"disappointing\", \"bloody\", \"silly\", \"tired\", \"predictable\", \"stupid\", \"uninteresting\",\n",
    "                          \"weak\", \"incredibly tiresome\", \"trite\", \"uneven\", \"cliché ridden\", \"outdated\",\n",
    "                          \"dreadful\", \"bland\", \"bad\", \"worst\", \"waste\"]\n",
    "\n",
    "    def transform(self, data):\n",
    "        \"\"\"\n",
    "        :param data: raw data\n",
    "        :return: features array of shape (n_samples, 1)\n",
    "        \"\"\"\n",
    "        features = np.zeros((len(data), 1))\n",
    "\n",
    "        # Workspace 4.3\n",
    "        # TODO: Transform reviews into the feature (number of negative words)  \n",
    "        #BEGIN\n",
    "        for i in range(len(data)):\n",
    "            words = nltk.word_tokenize(data[i])\n",
    "            for j in range(len(words)):\n",
    "                if words[j] in (self.neg_words):\n",
    "                    features[i] = features[i] + 1\n",
    "        #END\n",
    "\n",
    "        return features\n",
    "\n",
    "\n",
    "class PositiveCounter(NegativeCounter):\n",
    "    \"\"\"\n",
    "    A custom feature transformer to extract the feature \"number of positive words\"\n",
    "    \"\"\"\n",
    "\n",
    "    def __init__(self):\n",
    "        self.pos_words = [\"first-rate\", \"insightful\", \"clever\", \"charming\", \"comical\", \"charismatic\", \"enjoyable\",\n",
    "                          \"uproarious\", \"original\", \"tender\", \"hilarious\", \"absorbing\", \"sensitive\", \"riveting\",\n",
    "                          \"intriguing\", \"powerful\", \"fascinating\", \"pleasant\", \"surprising\", \"dazzling\",\n",
    "                          \"imaginative\", \"legendary\", \"unpretentious\", \"love\", \"wonderful\",\n",
    "                          \"best\", \"great\", \"superb\", \"still\", \"beautiful\"]\n",
    "\n",
    "    def transform(self, data):\n",
    "        \"\"\"\n",
    "        :param data: raw data\n",
    "        :return: features array of shape (n_samples, 1)\n",
    "        \"\"\"\n",
    "        features = np.zeros((len(data), 1))\n",
    "\n",
    "        # Workspace 4.4\n",
    "        # TODO: Transform reviews into the feature (number of positive words)  \n",
    "        #BEGIN \n",
    "        for i in range(len(data)):\n",
    "            words = nltk.word_tokenize(data[i])\n",
    "            for j in range(len(words)):\n",
    "                if words[j] in (self.pos_words):\n",
    "                    features[i] = features[i] + 1\n",
    "        #END\n",
    "        return features"
   ]
  },
  {
   "cell_type": "markdown",
   "metadata": {
    "deletable": false,
    "editable": false,
    "nbgrader": {
     "cell_type": "markdown",
     "checksum": "e4505608a30af5dd68819f5d0abb18a7",
     "grade": false,
     "grade_id": "q45",
     "locked": true,
     "schema_version": 3,
     "solution": false,
     "task": false
    }
   },
   "source": [
    "Let's see now how well the classifier would perform with these features that we just engineered. \n",
    "\n",
    "- 4.5 **[3 points]** Define `second_featurizer` to combine:`num_of_sentences`, `num_of_negative_words`, `num_of_positive_words`, respectively. "
   ]
  },
  {
   "cell_type": "code",
   "execution_count": 46,
   "metadata": {
    "deletable": false,
    "nbgrader": {
     "cell_type": "code",
     "checksum": "0bd2b682bcc533f051453765f98855cc",
     "grade": true,
     "grade_id": "a45",
     "locked": false,
     "points": 3,
     "schema_version": 3,
     "solution": true,
     "task": false
    }
   },
   "outputs": [],
   "source": [
    "# Workspace 4.5\n",
    "#BEGIN \n",
    "second_featurizer = Pipeline([(\"counts\", FeatureUnion([('sentences_count', SentenceCounter()),\n",
    "                                                ('negative_count', NegativeCounter()),('positive_count', PositiveCounter())])),\n",
    "                       (\"normalizer\", StandardScaler())])\n",
    "\n",
    "#END"
   ]
  },
  {
   "cell_type": "code",
   "execution_count": 47,
   "metadata": {},
   "outputs": [
    {
     "name": "stdout",
     "output_type": "stream",
     "text": [
      "(1400, 3) (600, 3)\n",
      "Accuracy on testing set:  0.6866666666666666\n"
     ]
    }
   ],
   "source": [
    "X_train = second_featurizer.fit_transform(imdb.X_train)\n",
    "X_test = second_featurizer.transform(imdb.X_test)\n",
    "print(X_train.shape, X_test.shape)\n",
    "# Train the classifier and find the accuracy on the test dataset\n",
    "lr = SGDClassifier(loss='log', penalty='l2', alpha=0.001, max_iter=2000, shuffle=True, verbose=0, random_state=42)\n",
    "lr.fit(X_train, imdb.y_train)\n",
    "y_pred = lr.predict(X_test)\n",
    "accuracy = accuracy_score(y_pred, imdb.y_test)\n",
    "print(\"Accuracy on testing set: \", accuracy)"
   ]
  },
  {
   "cell_type": "markdown",
   "metadata": {
    "deletable": false,
    "editable": false,
    "nbgrader": {
     "cell_type": "markdown",
     "checksum": "b690b16cf4701b9d321911443261e35e",
     "grade": false,
     "grade_id": "q46",
     "locked": true,
     "schema_version": 3,
     "solution": false,
     "task": false
    }
   },
   "source": [
    "That's an improvement! Let's try now to include `n-grams` to the list of features.\n",
    "\n",
    "`N-grams` are all combinations of n-length tokens in a given text. This can be at word level (`word n-grams`) or character level (`char n-grams`) \n",
    "\n",
    "For example, if you have the text: `\"The movie was great\"` , then for this text:\n",
    "\n",
    "- `unigrams` (`n=1`) at the word level would be `[\"The\", \"movie\", \"was\", \"great\"]` and \n",
    "- `bigrams` (`n=2`) at the word level would be `[\"The movie\", \"movie was\", \"was great\"]`\n",
    "\n",
    "and you can generalize this to `n-grams`.\n",
    "\n",
    "- 4.6 **[3 points]** Define `third_featurizer` to add include an N-gram extractor at the word level.\n",
    "\n",
    "HINT: use the scikit-learn transformer [`CountVectorizer`](\n",
    "https://scikit-learn.org/stable/modules/generated/sklearn.feature_extraction.text.CountVectorizer.html)\n"
   ]
  },
  {
   "cell_type": "code",
   "execution_count": 48,
   "metadata": {},
   "outputs": [],
   "source": [
    "model = CountVectorizer(ngram_range = (1,2))\n",
    "matrix = model.fit_transform(imdb.X_train).toarray()"
   ]
  },
  {
   "cell_type": "code",
   "execution_count": 49,
   "metadata": {
    "deletable": false,
    "nbgrader": {
     "cell_type": "code",
     "checksum": "793ec8f8073a62d83afeb94272444609",
     "grade": true,
     "grade_id": "a46",
     "locked": false,
     "points": 3,
     "schema_version": 3,
     "solution": true,
     "task": false
    }
   },
   "outputs": [],
   "source": [
    "third_featurizer = FeatureUnion([\n",
    "    # Workspace 4.6\n",
    "    # TODO: Add the three feature transformers from 4.5 and a fourth one to extract word n-grams of range 1 to 3\n",
    "    #BEGIN \n",
    "    ('sentences_count', SentenceCounter()),\n",
    "    ('negative_count', NegativeCounter()),\n",
    "    ('positive_count', PositiveCounter()),\n",
    "    ('ngram', CountVectorizer(ngram_range=(1,2), analyzer='word'))\n",
    "    # code here\n",
    "    #END\n",
    "])\n"
   ]
  },
  {
   "cell_type": "markdown",
   "metadata": {},
   "source": [
    "Let's now see if adding n-grams helped boost the classifier performance. "
   ]
  },
  {
   "cell_type": "code",
   "execution_count": 50,
   "metadata": {},
   "outputs": [
    {
     "name": "stdout",
     "output_type": "stream",
     "text": [
      "(1400, 409414) (600, 409414)\n"
     ]
    }
   ],
   "source": [
    "X_train = third_featurizer.fit_transform(imdb.X_train)\n",
    "X_test = third_featurizer.transform(imdb.X_test)\n",
    "print(X_train.shape, X_test.shape)"
   ]
  },
  {
   "cell_type": "code",
   "execution_count": 51,
   "metadata": {},
   "outputs": [
    {
     "name": "stdout",
     "output_type": "stream",
     "text": [
      "Accuracy on testing set:  0.8333333333333334\n"
     ]
    }
   ],
   "source": [
    "# Train the classifier and find the accuracy on the test dataset\n",
    "lr = SGDClassifier(loss='log', penalty='l2', alpha=0.001, max_iter=2000, shuffle=True, verbose=0, random_state=42)\n",
    "lr.fit(X_train, imdb.y_train)\n",
    "y_pred = lr.predict(X_test)\n",
    "accuracy = accuracy_score(y_pred, imdb.y_test)\n",
    "print(\"Accuracy on testing set: \", accuracy)"
   ]
  },
  {
   "cell_type": "markdown",
   "metadata": {
    "deletable": false,
    "editable": false,
    "nbgrader": {
     "cell_type": "markdown",
     "checksum": "b843660c35862d9bdf477327d7a7a466",
     "grade": false,
     "grade_id": "q47",
     "locked": true,
     "schema_version": 3,
     "solution": false,
     "task": false
    }
   },
   "source": [
    "N-grams definitely helped enhance the classifier performance!\n",
    "\n",
    "- 4.7 **(Bonus)** Try to a achieve better accuracy on IMDB dataset. You're restricted to using SGDClassifier, but you're free to tweak its parameters. You'll get 1 bonus point for each 1% accuracy above 82% that you achieve (rounded-up)!"
   ]
  },
  {
   "cell_type": "code",
   "execution_count": 65,
   "metadata": {
    "deletable": false,
    "nbgrader": {
     "cell_type": "code",
     "checksum": "cb0715e07dbab22b28b159d5f876ebd4",
     "grade": true,
     "grade_id": "a47",
     "locked": false,
     "points": 0,
     "schema_version": 3,
     "solution": true,
     "task": false
    }
   },
   "outputs": [
    {
     "name": "stdout",
     "output_type": "stream",
     "text": [
      "Accuracy on testing set:  0.8466666666666667\n"
     ]
    }
   ],
   "source": [
    "# Workspace 4.7\n",
    "#BEGIN \n",
    "lr = SGDClassifier(loss='log', penalty='elasticnet', l1_ratio=0.01, alpha=0.0000001, max_iter=2000, shuffle=True, verbose=0, random_state=42)\n",
    "lr.fit(X_train, imdb.y_train)\n",
    "y_pred = lr.predict(X_test)\n",
    "accuracy = accuracy_score(y_pred, imdb.y_test)\n",
    "print(\"Accuracy on testing set: \", accuracy)\n",
    "#END"
   ]
  },
  {
   "cell_type": "code",
   "execution_count": null,
   "metadata": {},
   "outputs": [],
   "source": []
  }
 ],
 "metadata": {
  "interpreter": {
   "hash": "aee8b7b246df8f9039afb4144a1f6fd8d2ca17a180786b69acc140d282b71a49"
  },
  "kernelspec": {
   "display_name": "Python 3 (ipykernel)",
   "language": "python",
   "name": "python3"
  },
  "language_info": {
   "codemirror_mode": {
    "name": "ipython",
    "version": 3
   },
   "file_extension": ".py",
   "mimetype": "text/x-python",
   "name": "python",
   "nbconvert_exporter": "python",
   "pygments_lexer": "ipython3",
   "version": "3.9.7"
  }
 },
 "nbformat": 4,
 "nbformat_minor": 4
}
